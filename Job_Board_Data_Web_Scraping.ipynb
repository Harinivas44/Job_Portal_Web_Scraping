{
 "cells": [
  {
   "cell_type": "code",
   "execution_count": 1,
   "id": "6ee67f6c",
   "metadata": {},
   "outputs": [],
   "source": [
    "# Job Posting Data Web Scraping           "
   ]
  },
  {
   "cell_type": "code",
   "execution_count": 37,
   "id": "5044a8af",
   "metadata": {},
   "outputs": [],
   "source": [
    "import pandas as pd\n",
    "import numpy as np\n",
    "from selenium import webdriver\n",
    "from bs4 import BeautifulSoup\n",
    "import seaborn as sns\n",
    "import matplotlib.pyplot as plt\n",
    "import time\n",
    "import plotly.graph_objects as go\n",
    "from wordcloud import WordCloud\n",
    "%matplotlib inline"
   ]
  },
  {
   "cell_type": "code",
   "execution_count": 38,
   "id": "d725bc1e",
   "metadata": {},
   "outputs": [
    {
     "data": {
      "text/html": [
       "<div>\n",
       "<style scoped>\n",
       "    .dataframe tbody tr th:only-of-type {\n",
       "        vertical-align: middle;\n",
       "    }\n",
       "\n",
       "    .dataframe tbody tr th {\n",
       "        vertical-align: top;\n",
       "    }\n",
       "\n",
       "    .dataframe thead th {\n",
       "        text-align: right;\n",
       "    }\n",
       "</style>\n",
       "<table border=\"1\" class=\"dataframe\">\n",
       "  <thead>\n",
       "    <tr style=\"text-align: right;\">\n",
       "      <th></th>\n",
       "      <th>type</th>\n",
       "      <th>link</th>\n",
       "    </tr>\n",
       "  </thead>\n",
       "  <tbody>\n",
       "    <tr>\n",
       "      <th>0</th>\n",
       "      <td>Accounting Jobs</td>\n",
       "      <td>https://www.naukri.com/accounting-jobs?xt=cats...</td>\n",
       "    </tr>\n",
       "    <tr>\n",
       "      <th>1</th>\n",
       "      <td>Interior Design Jobs</td>\n",
       "      <td>https://www.naukri.com/interior-design-jobs?xt...</td>\n",
       "    </tr>\n",
       "    <tr>\n",
       "      <th>2</th>\n",
       "      <td>Bank Jobs</td>\n",
       "      <td>https://www.naukri.com/bank-jobs?xt=catsrch&amp;qf...</td>\n",
       "    </tr>\n",
       "    <tr>\n",
       "      <th>3</th>\n",
       "      <td>Content Writing Jobs</td>\n",
       "      <td>https://www.naukri.com/content-writing-jobs?xt...</td>\n",
       "    </tr>\n",
       "    <tr>\n",
       "      <th>4</th>\n",
       "      <td>Consultant Jobs</td>\n",
       "      <td>https://www.naukri.com/consultant-jobs?xt=cats...</td>\n",
       "    </tr>\n",
       "  </tbody>\n",
       "</table>\n",
       "</div>"
      ],
      "text/plain": [
       "                   type                                               link\n",
       "0       Accounting Jobs  https://www.naukri.com/accounting-jobs?xt=cats...\n",
       "1  Interior Design Jobs  https://www.naukri.com/interior-design-jobs?xt...\n",
       "2             Bank Jobs  https://www.naukri.com/bank-jobs?xt=catsrch&qf...\n",
       "3  Content Writing Jobs  https://www.naukri.com/content-writing-jobs?xt...\n",
       "4       Consultant Jobs  https://www.naukri.com/consultant-jobs?xt=cats..."
      ]
     },
     "execution_count": 38,
     "metadata": {},
     "output_type": "execute_result"
    }
   ],
   "source": [
    "df=pd.read_csv('link_by_areas.csv')\n",
    "df.head()"
   ]
  },
  {
   "cell_type": "code",
   "execution_count": 39,
   "id": "346bfc91",
   "metadata": {},
   "outputs": [],
   "source": [
    "def my_url(page_no,url):\n",
    "    url='https://www.naukri.com/'+url[0][23:url[0].index('?')]+'-{}'.format(page_no)+'?'+url[0].split('?')[1]\n",
    "    return str(url)\n",
    "    "
   ]
  },
  {
   "cell_type": "code",
   "execution_count": 40,
   "id": "3e9461c4",
   "metadata": {},
   "outputs": [],
   "source": [
    "def extract_info(obj):\n",
    "    job_title=obj.find('a',\"title ellipsis\").text\n",
    "    company=obj.find('a',\"subTitle ellipsis fleft\").text\n",
    "    try:\n",
    "        try:\n",
    "            rating=float(obj.find('span',\"starRating fleft\").text)\n",
    "        except AttributeError:\n",
    "            rating=0\n",
    "        try:\n",
    "            review_counts=int(obj.find('span','reviewsCount fleft').text.split()[0])\n",
    "        except AttributeError:\n",
    "            review_counts=0\n",
    "        try:\n",
    "            exp=obj.find('span',\"ellipsis fleft expwdth\").text\n",
    "        except AttributeError:\n",
    "            exp='0-0 Yrs'\n",
    "        try:\n",
    "            salary=obj.find('span',\"ellipsis fleft\").text\n",
    "        except AttributeError:\n",
    "            salary='Not disclosed'\n",
    "        try:\n",
    "            location=obj.find('span',\"ellipsis fleft locWdth\").text\n",
    "        except AttributeError:\n",
    "            location='Not Mentioned'\n",
    "        try:\n",
    "            job_desc=obj.find('div',\"ellipsis job-description\").text\n",
    "        except AttributeError:\n",
    "            job_desc='Not Mentioned'\n",
    "        try:\n",
    "            tag=obj.find('ul',\"tags has-description\")\n",
    "            key=[]\n",
    "            for i in tag.find_all('li',class_=\"fleft dot\"):\n",
    "                key.append(i.getText())\n",
    "            tags=','.join(key)\n",
    "        except AttributeError:\n",
    "            tags='No tags'\n",
    "        try:\n",
    "            job_posted=obj.find('span','fleft postedDate').text\n",
    "        except:\n",
    "            job_posted='Not Mentioned'\n",
    "        results=[job_posted,job_title,company,exp,salary,location,rating,review_counts,job_desc,tags]\n",
    "        return results\n",
    "    except:\n",
    "        return 'Error Occurring...'\n",
    "    \n",
    "    "
   ]
  },
  {
   "cell_type": "code",
   "execution_count": 41,
   "id": "27847c8c",
   "metadata": {},
   "outputs": [],
   "source": [
    "def main(no_of_pages,job_type):\n",
    "    driver=webdriver.Chrome()\n",
    "    records=[]\n",
    "    job_type=df[df['type']==job_type]['link'].values\n",
    "    for j in range(1,no_of_pages+1):\n",
    "        url=my_url(j,job_type)\n",
    "        driver.get(url)\n",
    "        time.sleep(5)\n",
    "        soup=BeautifulSoup(driver.page_source,'html.parser')\n",
    "        data=soup.find_all('article',{'class':'jobTuple'})\n",
    "        for i in data:\n",
    "            record=extract_info(i)\n",
    "            if record:\n",
    "                records.append(record)\n",
    "    return records\n",
    "            "
   ]
  },
  {
   "cell_type": "markdown",
   "id": "0a44e636",
   "metadata": {},
   "source": [
    "<h1>-----------------------------------Personal Job Portal----------------------------------------------<h1>"
   ]
  },
  {
   "cell_type": "code",
   "execution_count": 42,
   "id": "6d1ecfb6",
   "metadata": {},
   "outputs": [
    {
     "name": "stdout",
     "output_type": "stream",
     "text": [
      "Enter the number of pages you need to scrap:15\n"
     ]
    }
   ],
   "source": [
    "n=int(input('Enter the number of pages you need to scrap:'))"
   ]
  },
  {
   "cell_type": "markdown",
   "id": "9d783585",
   "metadata": {},
   "source": [
    "| Serial No. | Job Type |\n",
    "|---|---|\n",
    "| 1 | Accounting Jobs |\n",
    "| 2 | Interior Design Jobs |\n",
    "| 3 | Bank Jobs |\n",
    "| 4 | Content Writing Jobs |\n",
    "| 5 | Consultant Jobs |\n",
    "| 6 | Engineering Jobs |\n",
    "| 7 | Export Import Jobs |\n",
    "| 8 | Merchandiser Jobs |\n",
    "| 9 | Security Jobs |\n",
    "| 10 | HR Jobs |\n",
    "| 11 | Hotel Jobs |\n",
    "| 12 | Application Programming Jobs |\n",
    "| 13 | Client Server Jobs |\n",
    "| 14 | DBA Jobs |\n",
    "| 15 | Ecommerce Jobs |\n",
    "| 16 | ERP Jobs |\n",
    "| 17 | VLSI Jobs |\n",
    "| 18 | Mainframe Jobs |\n",
    "| 19 | Middleware Jobs |\n",
    "| 20 | Mobile Jobs |\n",
    "| 21 | Network Administrator Jobs |\n",
    "| 22 | IT Jobs |\n",
    "| 23 | Testing Jobs |\n",
    "| 24 | System Programming Jobs |\n",
    "| 25 | EDP Jobs |\n",
    "| 26 | Telecom Software Jobs |\n",
    "| 27 | Telecom Jobs |\n",
    "| 28 | BPO Jobs |\n",
    "| 29 | Legal Jobs |\n",
    "| 30 | Marketing Jobs |\n",
    "| 31 | Packaging Jobs |\n",
    "| 32 | Pharma Jobs |\n",
    "| 33 | Maintenance Jobs |\n",
    "| 34 | Logistics Jobs |\n",
    "| 35 | Sales Jobs |\n",
    "| 36 | Secretary Jobs |\n",
    "| 37 | Corporate Planning Jobs |\n",
    "| 38 | Site Engineering Jobs |\n",
    "| 39 | Film Jobs |\n",
    "| 40 | Teacher Jobs |\n",
    "| 41 | Airline Jobs |\n",
    "| 42 | Graphic Designer Jobs |\n",
    "| 43 | Shipping Jobs |\n",
    "| 44 | Analytics Jobs |\n",
    "| 45 | Business Intelligence Jobs |\n",
    "| 46 | Data Science Jobs |\n"
   ]
  },
  {
   "cell_type": "code",
   "execution_count": 43,
   "id": "759d50e6",
   "metadata": {},
   "outputs": [
    {
     "name": "stdout",
     "output_type": "stream",
     "text": [
      "Enter the job type based on the above job titles:Data Science Jobs\n"
     ]
    }
   ],
   "source": [
    "job_type=input('Enter the job type based on the above job titles:')"
   ]
  },
  {
   "cell_type": "code",
   "execution_count": 44,
   "id": "6a3786f1",
   "metadata": {},
   "outputs": [],
   "source": [
    "result=main(n,job_type.title())\n",
    "job_portal=pd.DataFrame(result,columns=['Job_Posted_On','Job_Title','Company','Experience','Salary','Location','Ratings','Review_Counts','Job_Description','Job_Tags'])"
   ]
  },
  {
   "cell_type": "code",
   "execution_count": 45,
   "id": "8cc9a44f",
   "metadata": {},
   "outputs": [
    {
     "data": {
      "text/html": [
       "<div>\n",
       "<style scoped>\n",
       "    .dataframe tbody tr th:only-of-type {\n",
       "        vertical-align: middle;\n",
       "    }\n",
       "\n",
       "    .dataframe tbody tr th {\n",
       "        vertical-align: top;\n",
       "    }\n",
       "\n",
       "    .dataframe thead th {\n",
       "        text-align: right;\n",
       "    }\n",
       "</style>\n",
       "<table border=\"1\" class=\"dataframe\">\n",
       "  <thead>\n",
       "    <tr style=\"text-align: right;\">\n",
       "      <th></th>\n",
       "      <th>Job_Posted_On</th>\n",
       "      <th>Job_Title</th>\n",
       "      <th>Company</th>\n",
       "      <th>Experience</th>\n",
       "      <th>Salary</th>\n",
       "      <th>Location</th>\n",
       "      <th>Ratings</th>\n",
       "      <th>Review_Counts</th>\n",
       "      <th>Job_Description</th>\n",
       "      <th>Job_Tags</th>\n",
       "    </tr>\n",
       "  </thead>\n",
       "  <tbody>\n",
       "    <tr>\n",
       "      <th>0</th>\n",
       "      <td>2 Days Ago</td>\n",
       "      <td>Data Science Analytics Sr Analyst - Data Science</td>\n",
       "      <td>Accenture</td>\n",
       "      <td>5-8 Yrs</td>\n",
       "      <td>Not disclosed</td>\n",
       "      <td>Mumbai</td>\n",
       "      <td>4.1</td>\n",
       "      <td>39630</td>\n",
       "      <td>Please note that this role may require you to...</td>\n",
       "      <td>Data Science,Publishing,Artificial Intelligenc...</td>\n",
       "    </tr>\n",
       "    <tr>\n",
       "      <th>1</th>\n",
       "      <td>1 Day Ago</td>\n",
       "      <td>Senior Analyst - Data Science (Regression)</td>\n",
       "      <td>Tiger Analytics</td>\n",
       "      <td>2-4 Yrs</td>\n",
       "      <td>Not disclosed</td>\n",
       "      <td>Hyderabad/Secunderabad, Chennai, Bangalore/Ben...</td>\n",
       "      <td>3.5</td>\n",
       "      <td>339</td>\n",
       "      <td>A passion for writing high-quality code (Pyth...</td>\n",
       "      <td>customer analytics,Marketing analytics,data sc...</td>\n",
       "    </tr>\n",
       "    <tr>\n",
       "      <th>2</th>\n",
       "      <td>1 Day Ago</td>\n",
       "      <td>Manager-Data Science</td>\n",
       "      <td>AMERICAN EXPRESS</td>\n",
       "      <td>2-6 Yrs</td>\n",
       "      <td>Not disclosed</td>\n",
       "      <td>Kolkata, Mumbai, New Delhi, Hyderabad/Secunder...</td>\n",
       "      <td>4.3</td>\n",
       "      <td>2408</td>\n",
       "      <td>. Functional: . Hands-on experience with the ...</td>\n",
       "      <td>Career development,Automation,data science,Fin...</td>\n",
       "    </tr>\n",
       "    <tr>\n",
       "      <th>3</th>\n",
       "      <td>30+ Days Ago</td>\n",
       "      <td>Senior Analyst - Data Science</td>\n",
       "      <td>Tiger Analytics</td>\n",
       "      <td>0-4 Yrs</td>\n",
       "      <td>Not disclosed</td>\n",
       "      <td>Chennai</td>\n",
       "      <td>3.5</td>\n",
       "      <td>339</td>\n",
       "      <td>A passion for writing high-quality code (Pyth...</td>\n",
       "      <td>data science,Process documentation,Senior Anal...</td>\n",
       "    </tr>\n",
       "    <tr>\n",
       "      <th>4</th>\n",
       "      <td>10 Days Ago</td>\n",
       "      <td>Data Science - Route Optimization - Senior Ass...</td>\n",
       "      <td>PwC</td>\n",
       "      <td>6-7 Yrs</td>\n",
       "      <td>Not disclosed</td>\n",
       "      <td>Hyderabad/Secunderabad, Bangalore/Bengaluru</td>\n",
       "      <td>3.6</td>\n",
       "      <td>5764</td>\n",
       "      <td>Solid knowledge and experience of supervised,...</td>\n",
       "      <td>data cleansing,Cluster analysis,Data analysis,...</td>\n",
       "    </tr>\n",
       "  </tbody>\n",
       "</table>\n",
       "</div>"
      ],
      "text/plain": [
       "  Job_Posted_On                                          Job_Title  \\\n",
       "0    2 Days Ago   Data Science Analytics Sr Analyst - Data Science   \n",
       "1     1 Day Ago         Senior Analyst - Data Science (Regression)   \n",
       "2     1 Day Ago                               Manager-Data Science   \n",
       "3  30+ Days Ago                      Senior Analyst - Data Science   \n",
       "4   10 Days Ago  Data Science - Route Optimization - Senior Ass...   \n",
       "\n",
       "            Company Experience         Salary  \\\n",
       "0         Accenture    5-8 Yrs  Not disclosed   \n",
       "1   Tiger Analytics    2-4 Yrs  Not disclosed   \n",
       "2  AMERICAN EXPRESS    2-6 Yrs  Not disclosed   \n",
       "3   Tiger Analytics    0-4 Yrs  Not disclosed   \n",
       "4               PwC    6-7 Yrs  Not disclosed   \n",
       "\n",
       "                                            Location  Ratings  Review_Counts  \\\n",
       "0                                             Mumbai      4.1          39630   \n",
       "1  Hyderabad/Secunderabad, Chennai, Bangalore/Ben...      3.5            339   \n",
       "2  Kolkata, Mumbai, New Delhi, Hyderabad/Secunder...      4.3           2408   \n",
       "3                                            Chennai      3.5            339   \n",
       "4        Hyderabad/Secunderabad, Bangalore/Bengaluru      3.6           5764   \n",
       "\n",
       "                                     Job_Description  \\\n",
       "0   Please note that this role may require you to...   \n",
       "1   A passion for writing high-quality code (Pyth...   \n",
       "2   . Functional: . Hands-on experience with the ...   \n",
       "3   A passion for writing high-quality code (Pyth...   \n",
       "4   Solid knowledge and experience of supervised,...   \n",
       "\n",
       "                                            Job_Tags  \n",
       "0  Data Science,Publishing,Artificial Intelligenc...  \n",
       "1  customer analytics,Marketing analytics,data sc...  \n",
       "2  Career development,Automation,data science,Fin...  \n",
       "3  data science,Process documentation,Senior Anal...  \n",
       "4  data cleansing,Cluster analysis,Data analysis,...  "
      ]
     },
     "execution_count": 45,
     "metadata": {},
     "output_type": "execute_result"
    }
   ],
   "source": [
    "job_portal.head()"
   ]
  },
  {
   "cell_type": "code",
   "execution_count": 46,
   "id": "6d900f16",
   "metadata": {},
   "outputs": [
    {
     "data": {
      "text/html": [
       "<div>\n",
       "<style scoped>\n",
       "    .dataframe tbody tr th:only-of-type {\n",
       "        vertical-align: middle;\n",
       "    }\n",
       "\n",
       "    .dataframe tbody tr th {\n",
       "        vertical-align: top;\n",
       "    }\n",
       "\n",
       "    .dataframe thead th {\n",
       "        text-align: right;\n",
       "    }\n",
       "</style>\n",
       "<table border=\"1\" class=\"dataframe\">\n",
       "  <thead>\n",
       "    <tr style=\"text-align: right;\">\n",
       "      <th></th>\n",
       "      <th>Job_Posted_On</th>\n",
       "      <th>Job_Title</th>\n",
       "      <th>Company</th>\n",
       "      <th>Experience</th>\n",
       "      <th>Salary</th>\n",
       "      <th>Location</th>\n",
       "      <th>Ratings</th>\n",
       "      <th>Review_Counts</th>\n",
       "      <th>Job_Description</th>\n",
       "      <th>Job_Tags</th>\n",
       "    </tr>\n",
       "  </thead>\n",
       "  <tbody>\n",
       "    <tr>\n",
       "      <th>0</th>\n",
       "      <td>2 Days Ago</td>\n",
       "      <td>Data Science Analytics Sr Analyst - Data Science</td>\n",
       "      <td>Accenture</td>\n",
       "      <td>5-8 Yrs</td>\n",
       "      <td>Not disclosed</td>\n",
       "      <td>Mumbai</td>\n",
       "      <td>4.1</td>\n",
       "      <td>39630</td>\n",
       "      <td>Please note that this role may require you to...</td>\n",
       "      <td>Data Science,Publishing,Artificial Intelligenc...</td>\n",
       "    </tr>\n",
       "    <tr>\n",
       "      <th>1</th>\n",
       "      <td>1 Day Ago</td>\n",
       "      <td>Senior Analyst - Data Science (Regression)</td>\n",
       "      <td>Tiger Analytics</td>\n",
       "      <td>2-4 Yrs</td>\n",
       "      <td>Not disclosed</td>\n",
       "      <td>Hyderabad/Secunderabad, Chennai, Bangalore/Ben...</td>\n",
       "      <td>3.5</td>\n",
       "      <td>339</td>\n",
       "      <td>A passion for writing high-quality code (Pyth...</td>\n",
       "      <td>customer analytics,Marketing analytics,data sc...</td>\n",
       "    </tr>\n",
       "    <tr>\n",
       "      <th>2</th>\n",
       "      <td>1 Day Ago</td>\n",
       "      <td>Manager-Data Science</td>\n",
       "      <td>AMERICAN EXPRESS</td>\n",
       "      <td>2-6 Yrs</td>\n",
       "      <td>Not disclosed</td>\n",
       "      <td>Kolkata, Mumbai, New Delhi, Hyderabad/Secunder...</td>\n",
       "      <td>4.3</td>\n",
       "      <td>2408</td>\n",
       "      <td>. Functional: . Hands-on experience with the ...</td>\n",
       "      <td>Career development,Automation,data science,Fin...</td>\n",
       "    </tr>\n",
       "    <tr>\n",
       "      <th>3</th>\n",
       "      <td>30+ Days Ago</td>\n",
       "      <td>Senior Analyst - Data Science</td>\n",
       "      <td>Tiger Analytics</td>\n",
       "      <td>0-4 Yrs</td>\n",
       "      <td>Not disclosed</td>\n",
       "      <td>Chennai</td>\n",
       "      <td>3.5</td>\n",
       "      <td>339</td>\n",
       "      <td>A passion for writing high-quality code (Pyth...</td>\n",
       "      <td>data science,Process documentation,Senior Anal...</td>\n",
       "    </tr>\n",
       "    <tr>\n",
       "      <th>4</th>\n",
       "      <td>10 Days Ago</td>\n",
       "      <td>Data Science - Route Optimization - Senior Ass...</td>\n",
       "      <td>PwC</td>\n",
       "      <td>6-7 Yrs</td>\n",
       "      <td>Not disclosed</td>\n",
       "      <td>Hyderabad/Secunderabad, Bangalore/Bengaluru</td>\n",
       "      <td>3.6</td>\n",
       "      <td>5764</td>\n",
       "      <td>Solid knowledge and experience of supervised,...</td>\n",
       "      <td>data cleansing,Cluster analysis,Data analysis,...</td>\n",
       "    </tr>\n",
       "    <tr>\n",
       "      <th>...</th>\n",
       "      <td>...</td>\n",
       "      <td>...</td>\n",
       "      <td>...</td>\n",
       "      <td>...</td>\n",
       "      <td>...</td>\n",
       "      <td>...</td>\n",
       "      <td>...</td>\n",
       "      <td>...</td>\n",
       "      <td>...</td>\n",
       "      <td>...</td>\n",
       "    </tr>\n",
       "    <tr>\n",
       "      <th>295</th>\n",
       "      <td>18 Days Ago</td>\n",
       "      <td>Data Analyst</td>\n",
       "      <td>Arbeit Associates</td>\n",
       "      <td>3-7 Yrs</td>\n",
       "      <td>10-16 Lacs PA</td>\n",
       "      <td>Hybrid - Gurgaon/ Gurugram, Haryana, Bangalore...</td>\n",
       "      <td>0.0</td>\n",
       "      <td>0</td>\n",
       "      <td>Minimum 3-7 years of experience working close...</td>\n",
       "      <td>SQL,Python,Data Science,R,Google Analytics,Pow...</td>\n",
       "    </tr>\n",
       "    <tr>\n",
       "      <th>296</th>\n",
       "      <td>30+ Days Ago</td>\n",
       "      <td>Data Analyst</td>\n",
       "      <td>Talent Zone Consultant</td>\n",
       "      <td>10-12 Yrs</td>\n",
       "      <td>Not disclosed</td>\n",
       "      <td>Bangalore/Bengaluru</td>\n",
       "      <td>4.4</td>\n",
       "      <td>2</td>\n",
       "      <td>graduate degree in Data Science or other quan...</td>\n",
       "      <td>Data Science,Business Intelligence,R,Data Scie...</td>\n",
       "    </tr>\n",
       "    <tr>\n",
       "      <th>297</th>\n",
       "      <td>30+ Days Ago</td>\n",
       "      <td>Data Analyst</td>\n",
       "      <td>Xpheno</td>\n",
       "      <td>2-5 Yrs</td>\n",
       "      <td>Not disclosed</td>\n",
       "      <td>Bangalore/Bengaluru</td>\n",
       "      <td>3.3</td>\n",
       "      <td>100</td>\n",
       "      <td>Bachelor s degree with 5+ years of experience...</td>\n",
       "      <td>Automation,data science,Life sciences,Data ana...</td>\n",
       "    </tr>\n",
       "    <tr>\n",
       "      <th>298</th>\n",
       "      <td>2 Days Ago</td>\n",
       "      <td>Data Scientist | Machine Learning Engineer | D...</td>\n",
       "      <td>Quiksync Technologies Llp</td>\n",
       "      <td>8-13 Yrs</td>\n",
       "      <td>25-40 Lacs PA</td>\n",
       "      <td>Remote</td>\n",
       "      <td>2.9</td>\n",
       "      <td>23</td>\n",
       "      <td>Skills Required : . Machine Learning, Deep Le...</td>\n",
       "      <td>machine learning,Deep Learning,data science,Az...</td>\n",
       "    </tr>\n",
       "    <tr>\n",
       "      <th>299</th>\n",
       "      <td>30+ Days Ago</td>\n",
       "      <td>Senior Data Engineer - Power BI</td>\n",
       "      <td>Tiger Analytics</td>\n",
       "      <td>7-12 Yrs</td>\n",
       "      <td>Not disclosed</td>\n",
       "      <td>Hyderabad/Secunderabad, Chennai</td>\n",
       "      <td>3.5</td>\n",
       "      <td>339</td>\n",
       "      <td>Adept understanding of any of the cloud servi...</td>\n",
       "      <td>Performance tuning,data science,Analytical,Con...</td>\n",
       "    </tr>\n",
       "  </tbody>\n",
       "</table>\n",
       "<p>300 rows × 10 columns</p>\n",
       "</div>"
      ],
      "text/plain": [
       "    Job_Posted_On                                          Job_Title  \\\n",
       "0      2 Days Ago   Data Science Analytics Sr Analyst - Data Science   \n",
       "1       1 Day Ago         Senior Analyst - Data Science (Regression)   \n",
       "2       1 Day Ago                               Manager-Data Science   \n",
       "3    30+ Days Ago                      Senior Analyst - Data Science   \n",
       "4     10 Days Ago  Data Science - Route Optimization - Senior Ass...   \n",
       "..            ...                                                ...   \n",
       "295   18 Days Ago                                       Data Analyst   \n",
       "296  30+ Days Ago                                       Data Analyst   \n",
       "297  30+ Days Ago                                       Data Analyst   \n",
       "298    2 Days Ago  Data Scientist | Machine Learning Engineer | D...   \n",
       "299  30+ Days Ago                    Senior Data Engineer - Power BI   \n",
       "\n",
       "                       Company Experience         Salary  \\\n",
       "0                    Accenture    5-8 Yrs  Not disclosed   \n",
       "1              Tiger Analytics    2-4 Yrs  Not disclosed   \n",
       "2             AMERICAN EXPRESS    2-6 Yrs  Not disclosed   \n",
       "3              Tiger Analytics    0-4 Yrs  Not disclosed   \n",
       "4                          PwC    6-7 Yrs  Not disclosed   \n",
       "..                         ...        ...            ...   \n",
       "295          Arbeit Associates    3-7 Yrs  10-16 Lacs PA   \n",
       "296     Talent Zone Consultant  10-12 Yrs  Not disclosed   \n",
       "297                     Xpheno    2-5 Yrs  Not disclosed   \n",
       "298  Quiksync Technologies Llp   8-13 Yrs  25-40 Lacs PA   \n",
       "299            Tiger Analytics   7-12 Yrs  Not disclosed   \n",
       "\n",
       "                                              Location  Ratings  \\\n",
       "0                                               Mumbai      4.1   \n",
       "1    Hyderabad/Secunderabad, Chennai, Bangalore/Ben...      3.5   \n",
       "2    Kolkata, Mumbai, New Delhi, Hyderabad/Secunder...      4.3   \n",
       "3                                              Chennai      3.5   \n",
       "4          Hyderabad/Secunderabad, Bangalore/Bengaluru      3.6   \n",
       "..                                                 ...      ...   \n",
       "295  Hybrid - Gurgaon/ Gurugram, Haryana, Bangalore...      0.0   \n",
       "296                                Bangalore/Bengaluru      4.4   \n",
       "297                                Bangalore/Bengaluru      3.3   \n",
       "298                                             Remote      2.9   \n",
       "299                    Hyderabad/Secunderabad, Chennai      3.5   \n",
       "\n",
       "     Review_Counts                                    Job_Description  \\\n",
       "0            39630   Please note that this role may require you to...   \n",
       "1              339   A passion for writing high-quality code (Pyth...   \n",
       "2             2408   . Functional: . Hands-on experience with the ...   \n",
       "3              339   A passion for writing high-quality code (Pyth...   \n",
       "4             5764   Solid knowledge and experience of supervised,...   \n",
       "..             ...                                                ...   \n",
       "295              0   Minimum 3-7 years of experience working close...   \n",
       "296              2   graduate degree in Data Science or other quan...   \n",
       "297            100   Bachelor s degree with 5+ years of experience...   \n",
       "298             23   Skills Required : . Machine Learning, Deep Le...   \n",
       "299            339   Adept understanding of any of the cloud servi...   \n",
       "\n",
       "                                              Job_Tags  \n",
       "0    Data Science,Publishing,Artificial Intelligenc...  \n",
       "1    customer analytics,Marketing analytics,data sc...  \n",
       "2    Career development,Automation,data science,Fin...  \n",
       "3    data science,Process documentation,Senior Anal...  \n",
       "4    data cleansing,Cluster analysis,Data analysis,...  \n",
       "..                                                 ...  \n",
       "295  SQL,Python,Data Science,R,Google Analytics,Pow...  \n",
       "296  Data Science,Business Intelligence,R,Data Scie...  \n",
       "297  Automation,data science,Life sciences,Data ana...  \n",
       "298  machine learning,Deep Learning,data science,Az...  \n",
       "299  Performance tuning,data science,Analytical,Con...  \n",
       "\n",
       "[300 rows x 10 columns]"
      ]
     },
     "execution_count": 46,
     "metadata": {},
     "output_type": "execute_result"
    }
   ],
   "source": [
    "job_portal"
   ]
  },
  {
   "cell_type": "code",
   "execution_count": 47,
   "id": "a161b1ba",
   "metadata": {},
   "outputs": [
    {
     "data": {
      "text/plain": [
       "Job_Posted_On       object\n",
       "Job_Title           object\n",
       "Company             object\n",
       "Experience          object\n",
       "Salary              object\n",
       "Location            object\n",
       "Ratings            float64\n",
       "Review_Counts        int64\n",
       "Job_Description     object\n",
       "Job_Tags            object\n",
       "dtype: object"
      ]
     },
     "execution_count": 47,
     "metadata": {},
     "output_type": "execute_result"
    }
   ],
   "source": [
    "job_portal.dtypes"
   ]
  },
  {
   "cell_type": "code",
   "execution_count": 48,
   "id": "e7f058e3",
   "metadata": {},
   "outputs": [],
   "source": [
    "job_portal.index+=1"
   ]
  },
  {
   "cell_type": "code",
   "execution_count": 49,
   "id": "3b735288",
   "metadata": {},
   "outputs": [
    {
     "data": {
      "text/plain": [
       "Job_Posted_On      0\n",
       "Job_Title          0\n",
       "Company            0\n",
       "Experience         0\n",
       "Salary             0\n",
       "Location           0\n",
       "Ratings            0\n",
       "Review_Counts      0\n",
       "Job_Description    0\n",
       "Job_Tags           0\n",
       "dtype: int64"
      ]
     },
     "execution_count": 49,
     "metadata": {},
     "output_type": "execute_result"
    }
   ],
   "source": [
    "job_portal.isnull().sum()"
   ]
  },
  {
   "cell_type": "code",
   "execution_count": 50,
   "id": "0db96324",
   "metadata": {},
   "outputs": [],
   "source": [
    "job_portal['Experience']=job_portal['Experience'].str.split('-').apply(lambda x:[int(i) if len(i.split())==1 else (int(i.split()[0]) if i.split()[0].isdigit() else i) for i in x]+['Yrs'])"
   ]
  },
  {
   "cell_type": "code",
   "execution_count": 51,
   "id": "987ea05f",
   "metadata": {},
   "outputs": [
    {
     "data": {
      "text/html": [
       "<div>\n",
       "<style scoped>\n",
       "    .dataframe tbody tr th:only-of-type {\n",
       "        vertical-align: middle;\n",
       "    }\n",
       "\n",
       "    .dataframe tbody tr th {\n",
       "        vertical-align: top;\n",
       "    }\n",
       "\n",
       "    .dataframe thead th {\n",
       "        text-align: right;\n",
       "    }\n",
       "</style>\n",
       "<table border=\"1\" class=\"dataframe\">\n",
       "  <thead>\n",
       "    <tr style=\"text-align: right;\">\n",
       "      <th></th>\n",
       "      <th>Job_Posted_On</th>\n",
       "      <th>Job_Title</th>\n",
       "      <th>Company</th>\n",
       "      <th>Experience</th>\n",
       "      <th>Salary</th>\n",
       "      <th>Location</th>\n",
       "      <th>Ratings</th>\n",
       "      <th>Review_Counts</th>\n",
       "      <th>Job_Description</th>\n",
       "      <th>Job_Tags</th>\n",
       "    </tr>\n",
       "  </thead>\n",
       "  <tbody>\n",
       "    <tr>\n",
       "      <th>1</th>\n",
       "      <td>2 Days Ago</td>\n",
       "      <td>Data Science Analytics Sr Analyst - Data Science</td>\n",
       "      <td>Accenture</td>\n",
       "      <td>[5, 8, Yrs]</td>\n",
       "      <td>Not disclosed</td>\n",
       "      <td>Mumbai</td>\n",
       "      <td>4.1</td>\n",
       "      <td>39630</td>\n",
       "      <td>Please note that this role may require you to...</td>\n",
       "      <td>Data Science,Publishing,Artificial Intelligenc...</td>\n",
       "    </tr>\n",
       "    <tr>\n",
       "      <th>2</th>\n",
       "      <td>1 Day Ago</td>\n",
       "      <td>Senior Analyst - Data Science (Regression)</td>\n",
       "      <td>Tiger Analytics</td>\n",
       "      <td>[2, 4, Yrs]</td>\n",
       "      <td>Not disclosed</td>\n",
       "      <td>Hyderabad/Secunderabad, Chennai, Bangalore/Ben...</td>\n",
       "      <td>3.5</td>\n",
       "      <td>339</td>\n",
       "      <td>A passion for writing high-quality code (Pyth...</td>\n",
       "      <td>customer analytics,Marketing analytics,data sc...</td>\n",
       "    </tr>\n",
       "    <tr>\n",
       "      <th>3</th>\n",
       "      <td>1 Day Ago</td>\n",
       "      <td>Manager-Data Science</td>\n",
       "      <td>AMERICAN EXPRESS</td>\n",
       "      <td>[2, 6, Yrs]</td>\n",
       "      <td>Not disclosed</td>\n",
       "      <td>Kolkata, Mumbai, New Delhi, Hyderabad/Secunder...</td>\n",
       "      <td>4.3</td>\n",
       "      <td>2408</td>\n",
       "      <td>. Functional: . Hands-on experience with the ...</td>\n",
       "      <td>Career development,Automation,data science,Fin...</td>\n",
       "    </tr>\n",
       "    <tr>\n",
       "      <th>4</th>\n",
       "      <td>30+ Days Ago</td>\n",
       "      <td>Senior Analyst - Data Science</td>\n",
       "      <td>Tiger Analytics</td>\n",
       "      <td>[0, 4, Yrs]</td>\n",
       "      <td>Not disclosed</td>\n",
       "      <td>Chennai</td>\n",
       "      <td>3.5</td>\n",
       "      <td>339</td>\n",
       "      <td>A passion for writing high-quality code (Pyth...</td>\n",
       "      <td>data science,Process documentation,Senior Anal...</td>\n",
       "    </tr>\n",
       "    <tr>\n",
       "      <th>5</th>\n",
       "      <td>10 Days Ago</td>\n",
       "      <td>Data Science - Route Optimization - Senior Ass...</td>\n",
       "      <td>PwC</td>\n",
       "      <td>[6, 7, Yrs]</td>\n",
       "      <td>Not disclosed</td>\n",
       "      <td>Hyderabad/Secunderabad, Bangalore/Bengaluru</td>\n",
       "      <td>3.6</td>\n",
       "      <td>5764</td>\n",
       "      <td>Solid knowledge and experience of supervised,...</td>\n",
       "      <td>data cleansing,Cluster analysis,Data analysis,...</td>\n",
       "    </tr>\n",
       "  </tbody>\n",
       "</table>\n",
       "</div>"
      ],
      "text/plain": [
       "  Job_Posted_On                                          Job_Title  \\\n",
       "1    2 Days Ago   Data Science Analytics Sr Analyst - Data Science   \n",
       "2     1 Day Ago         Senior Analyst - Data Science (Regression)   \n",
       "3     1 Day Ago                               Manager-Data Science   \n",
       "4  30+ Days Ago                      Senior Analyst - Data Science   \n",
       "5   10 Days Ago  Data Science - Route Optimization - Senior Ass...   \n",
       "\n",
       "            Company   Experience         Salary  \\\n",
       "1         Accenture  [5, 8, Yrs]  Not disclosed   \n",
       "2   Tiger Analytics  [2, 4, Yrs]  Not disclosed   \n",
       "3  AMERICAN EXPRESS  [2, 6, Yrs]  Not disclosed   \n",
       "4   Tiger Analytics  [0, 4, Yrs]  Not disclosed   \n",
       "5               PwC  [6, 7, Yrs]  Not disclosed   \n",
       "\n",
       "                                            Location  Ratings  Review_Counts  \\\n",
       "1                                             Mumbai      4.1          39630   \n",
       "2  Hyderabad/Secunderabad, Chennai, Bangalore/Ben...      3.5            339   \n",
       "3  Kolkata, Mumbai, New Delhi, Hyderabad/Secunder...      4.3           2408   \n",
       "4                                            Chennai      3.5            339   \n",
       "5        Hyderabad/Secunderabad, Bangalore/Bengaluru      3.6           5764   \n",
       "\n",
       "                                     Job_Description  \\\n",
       "1   Please note that this role may require you to...   \n",
       "2   A passion for writing high-quality code (Pyth...   \n",
       "3   . Functional: . Hands-on experience with the ...   \n",
       "4   A passion for writing high-quality code (Pyth...   \n",
       "5   Solid knowledge and experience of supervised,...   \n",
       "\n",
       "                                            Job_Tags  \n",
       "1  Data Science,Publishing,Artificial Intelligenc...  \n",
       "2  customer analytics,Marketing analytics,data sc...  \n",
       "3  Career development,Automation,data science,Fin...  \n",
       "4  data science,Process documentation,Senior Anal...  \n",
       "5  data cleansing,Cluster analysis,Data analysis,...  "
      ]
     },
     "execution_count": 51,
     "metadata": {},
     "output_type": "execute_result"
    }
   ],
   "source": [
    "job_portal.head()"
   ]
  },
  {
   "cell_type": "code",
   "execution_count": 52,
   "id": "a6206f07",
   "metadata": {},
   "outputs": [],
   "source": [
    "All_tags=','.join(job_portal['Job_Tags'].tolist())"
   ]
  },
  {
   "cell_type": "code",
   "execution_count": 53,
   "id": "266321f4",
   "metadata": {},
   "outputs": [
    {
     "data": {
      "image/png": "[encoded data removed]",
      "text/plain": [
       "<Figure size 720x360 with 1 Axes>"
      ]
     },
     "metadata": {
      "needs_background": "light"
     },
     "output_type": "display_data"
    }
   ],
   "source": [
    "wordcloud = WordCloud(\n",
    "    width=800,\n",
    "    height=400,\n",
    "    background_color='black',\n",
    "    max_words=50,\n",
    "    colormap='Blues',\n",
    "    contour_color='steelblue'\n",
    ").generate(All_tags)\n",
    "plt.figure(figsize=(10, 5))\n",
    "plt.imshow(wordcloud, interpolation='bilinear')\n",
    "plt.axis('off')\n",
    "plt.show()"
   ]
  },
  {
   "cell_type": "code",
   "execution_count": 54,
   "id": "2c51e1ba",
   "metadata": {},
   "outputs": [
    {
     "data": {
      "application/vnd.plotly.v1+json": {
       "config": {
        "plotlyServerURL": "https://plot.ly"
       },
       "data": [
        {
         "marker": {
          "color": "#f64a69",
          "line": {
           "width": 0.5
          }
         },
         "type": "bar",
         "x": [
          "Accenture",
          "TRH Consultancy Services",
          "PwC",
          "Tiger Analytics",
          "Skillety",
          "Primo Hiring",
          "Nagarro",
          "Dr Reddys",
          "CARBYNETECH",
          "Okda Solutions",
          "Mondelez",
          "LogiNext",
          "Talent Socio",
          "Copeland",
          "Walmart",
          "Tata Capital",
          "Dimensions HRD Consultants",
          "Denave",
          "Response Informatics",
          "Bajaj Finserv Ltd.",
          "Technovert",
          "Shell",
          "Xoom",
          "Paytm",
          "All About It India",
          "Intone Networks",
          "3i Infotech",
          "Xcel Hires Managment Solutions Pvt Ltd",
          "Buckman",
          "Ira Commerce",
          "Serving Skill",
          "Career Infosystem",
          "HyrEzy Talent Solution",
          "Navit Software Solutions",
          "Shreeniwas",
          "Pylon Management Consulting",
          "Seacross Recruitment Services",
          "Globaldata",
          "KPMG Global Services",
          "Visa Inc",
          "Jet2 Travel Technologies",
          "Benovymed Healthcare",
          "Triangle Global",
          "AVE-Promagne Business Solutions",
          "Wellcrew Staffing Solutions",
          "Globals Ites",
          "Support Star Corporate",
          "LKQ India",
          "Reed And Willow ( A Unit Of Talright Technologies )",
          "Findability Sciences",
          "Cognizant",
          "Varite",
          "Wolters Kluwer",
          "GXO Logistics",
          "Imagecon India",
          "Digilytics",
          "Prime Search",
          "Softweb Solutions",
          "Soothsayer Analytics",
          "Beechi Vidya Kendra Trust",
          "Zeominds It Solutions",
          "Pranathi Software Services",
          "Flytxt",
          "Strategic Talent",
          "Pratham Edusys",
          "Muthoot Microfin",
          "ICICI Bank",
          "Megma Services",
          "Anurag Electronic Gujarat",
          "4S Advisory",
          "Topgear Consultants",
          "Websoullabs",
          "IndiaFirst Life",
          "V Konnect ",
          "GSK",
          "Redbox",
          "Aspyra Hr Services",
          "GSK India",
          "Disha Consultants",
          "Fractal Analytics",
          "Reliance Games",
          "Google Asia Pacific",
          "Grid Dynamics",
          "Zoom Info",
          "Arbeit Associates",
          "Talent Zone Consultant",
          "Xpheno",
          "Diverse Infotech",
          "Flipkart",
          "Virtuoso Staffing Solutions",
          "Hbic Solutions",
          "Unique Occupational Services (UOS)",
          "Estee Advisors",
          "Agile Airport Services",
          "Capco",
          "The Nikharv Consultancy",
          "Genpact",
          "Terafin Infotech",
          "INFOWIZ",
          "Ford",
          "Boston Consulting Group",
          "Indiqsoft Solutions",
          "Finsire",
          "Sagility India",
          "ASG Technologies",
          "Analytos",
          "Graphic Era Deemed to be University ",
          "Nissan Technical Centre",
          "Merilytics",
          "Innovominds Solutions",
          "Vertex Corporate Services (i)",
          "Arbo Technologies",
          "Talent500",
          "Tata Chemicals",
          "BMC Software",
          "unnati",
          "Meera Hr Verticals",
          "Oracle",
          "PayU",
          "DUN BRADSTREET INFORMATION SERVICES INDIA PRIVATE LIMITED",
          "Career Foresight Hr Solution Llp",
          "Ninestars Information Technologies",
          "Radial Hr Solutions",
          "Tata Elxsi",
          "Brave Ai Lab",
          "MNJ Software",
          "V Mart",
          "Western Union Financial Services, Inc",
          "Ihub Anubhuti",
          "Loyalytics Consulting",
          "AMERICAN EXPRESS",
          "Bajaj Finance",
          "ServiceNow",
          "Service Now Planet",
          "AugustCode Solutions Pvt. Ltd.",
          "Nadal Business Services Pvt Ltd",
          "Flip Robo Technologies",
          "CAMBRIDGE TECHNOLOGY ENTERPRISES (CTE)",
          "Emerson",
          "Tredence",
          "Antworks",
          "Rintelo Consulting",
          "Techsist Solution",
          "MothersonSumi INfotech & Designs (MIND)",
          "Cerner",
          "Ethnotech Academy",
          "Innominds Software",
          "Axa Technology Services",
          "Digit88",
          "Xitadel",
          "IPS Technology Services",
          "Xperthunt Systems",
          "Hirestaar Job Bank",
          "The Smart Cube",
          "Manpowergroup Services India",
          "Twirll",
          "Epiq Systems, Inc.",
          "alight",
          "QiO",
          "Quantta Analytics Pvt Ltd.",
          "Consilium Software",
          "Circle K Stores Inc",
          "SPM Jobs",
          "Booking Holdings",
          "Limendo",
          "SRS Business Solutions (india)",
          "Bairesdev Llc",
          "Pepsi Foods",
          "Uncodemy",
          "Medtoureasy",
          "Conneqt Digital",
          "Essenware",
          "General Mills",
          "Myfuturejobs",
          "OptOut.Work",
          "Epiq Global",
          "Alp Consulting",
          "XPO",
          "BNY Mellon",
          "Techvidya Career",
          "Rtwo Healthcare Solutions Llp",
          "Quiksync Technologies Llp"
         ],
         "y": [
          24,
          12,
          8,
          7,
          7,
          6,
          5,
          4,
          4,
          4,
          4,
          4,
          3,
          3,
          3,
          3,
          3,
          3,
          3,
          3,
          3,
          2,
          2,
          2,
          2,
          2,
          2,
          2,
          2,
          2,
          2,
          2,
          2,
          2,
          2,
          2,
          2,
          2,
          2,
          2,
          2,
          2,
          2,
          2,
          1,
          1,
          1,
          1,
          1,
          1,
          1,
          1,
          1,
          1,
          1,
          1,
          1,
          1,
          1,
          1,
          1,
          1,
          1,
          1,
          1,
          1,
          1,
          1,
          1,
          1,
          1,
          1,
          1,
          1,
          1,
          1,
          1,
          1,
          1,
          1,
          1,
          1,
          1,
          1,
          1,
          1,
          1,
          1,
          1,
          1,
          1,
          1,
          1,
          1,
          1,
          1,
          1,
          1,
          1,
          1,
          1,
          1,
          1,
          1,
          1,
          1,
          1,
          1,
          1,
          1,
          1,
          1,
          1,
          1,
          1,
          1,
          1,
          1,
          1,
          1,
          1,
          1,
          1,
          1,
          1,
          1,
          1,
          1,
          1,
          1,
          1,
          1,
          1,
          1,
          1,
          1,
          1,
          1,
          1,
          1,
          1,
          1,
          1,
          1,
          1,
          1,
          1,
          1,
          1,
          1,
          1,
          1,
          1,
          1,
          1,
          1,
          1,
          1,
          1,
          1,
          1,
          1,
          1,
          1,
          1,
          1,
          1,
          1,
          1,
          1,
          1,
          1,
          1,
          1,
          1,
          1,
          1,
          1,
          1,
          1,
          1,
          1
         ]
        }
       ],
       "layout": {
        "height": 600,
        "paper_bgcolor": "rgb(40, 40, 40)",
        "plot_bgcolor": "rgb(40, 40, 40)",
        "template": {
         "data": {
          "bar": [
           {
            "error_x": {
             "color": "#2a3f5f"
            },
            "error_y": {
             "color": "#2a3f5f"
            },
            "marker": {
             "line": {
              "color": "#E5ECF6",
              "width": 0.5
             },
             "pattern": {
              "fillmode": "overlay",
              "size": 10,
              "solidity": 0.2
             }
            },
            "type": "bar"
           }
          ],
          "barpolar": [
           {
            "marker": {
             "line": {
              "color": "#E5ECF6",
              "width": 0.5
             },
             "pattern": {
              "fillmode": "overlay",
              "size": 10,
              "solidity": 0.2
             }
            },
            "type": "barpolar"
           }
          ],
          "carpet": [
           {
            "aaxis": {
             "endlinecolor": "#2a3f5f",
             "gridcolor": "white",
             "linecolor": "white",
             "minorgridcolor": "white",
             "startlinecolor": "#2a3f5f"
            },
            "baxis": {
             "endlinecolor": "#2a3f5f",
             "gridcolor": "white",
             "linecolor": "white",
             "minorgridcolor": "white",
             "startlinecolor": "#2a3f5f"
            },
            "type": "carpet"
           }
          ],
          "choropleth": [
           {
            "colorbar": {
             "outlinewidth": 0,
             "ticks": ""
            },
            "type": "choropleth"
           }
          ],
          "contour": [
           {
            "colorbar": {
             "outlinewidth": 0,
             "ticks": ""
            },
            "colorscale": [
             [
              0,
              "#0d0887"
             ],
             [
              0.1111111111111111,
              "#46039f"
             ],
             [
              0.2222222222222222,
              "#7201a8"
             ],
             [
              0.3333333333333333,
              "#9c179e"
             ],
             [
              0.4444444444444444,
              "#bd3786"
             ],
             [
              0.5555555555555556,
              "#d8576b"
             ],
             [
              0.6666666666666666,
              "#ed7953"
             ],
             [
              0.7777777777777778,
              "#fb9f3a"
             ],
             [
              0.8888888888888888,
              "#fdca26"
             ],
             [
              1,
              "#f0f921"
             ]
            ],
            "type": "contour"
           }
          ],
          "contourcarpet": [
           {
            "colorbar": {
             "outlinewidth": 0,
             "ticks": ""
            },
            "type": "contourcarpet"
           }
          ],
          "heatmap": [
           {
            "colorbar": {
             "outlinewidth": 0,
             "ticks": ""
            },
            "colorscale": [
             [
              0,
              "#0d0887"
             ],
             [
              0.1111111111111111,
              "#46039f"
             ],
             [
              0.2222222222222222,
              "#7201a8"
             ],
             [
              0.3333333333333333,
              "#9c179e"
             ],
             [
              0.4444444444444444,
              "#bd3786"
             ],
             [
              0.5555555555555556,
              "#d8576b"
             ],
             [
              0.6666666666666666,
              "#ed7953"
             ],
             [
              0.7777777777777778,
              "#fb9f3a"
             ],
             [
              0.8888888888888888,
              "#fdca26"
             ],
             [
              1,
              "#f0f921"
             ]
            ],
            "type": "heatmap"
           }
          ],
          "heatmapgl": [
           {
            "colorbar": {
             "outlinewidth": 0,
             "ticks": ""
            },
            "colorscale": [
             [
              0,
              "#0d0887"
             ],
             [
              0.1111111111111111,
              "#46039f"
             ],
             [
              0.2222222222222222,
              "#7201a8"
             ],
             [
              0.3333333333333333,
              "#9c179e"
             ],
             [
              0.4444444444444444,
              "#bd3786"
             ],
             [
              0.5555555555555556,
              "#d8576b"
             ],
             [
              0.6666666666666666,
              "#ed7953"
             ],
             [
              0.7777777777777778,
              "#fb9f3a"
             ],
             [
              0.8888888888888888,
              "#fdca26"
             ],
             [
              1,
              "#f0f921"
             ]
            ],
            "type": "heatmapgl"
           }
          ],
          "histogram": [
           {
            "marker": {
             "pattern": {
              "fillmode": "overlay",
              "size": 10,
              "solidity": 0.2
             }
            },
            "type": "histogram"
           }
          ],
          "histogram2d": [
           {
            "colorbar": {
             "outlinewidth": 0,
             "ticks": ""
            },
            "colorscale": [
             [
              0,
              "#0d0887"
             ],
             [
              0.1111111111111111,
              "#46039f"
             ],
             [
              0.2222222222222222,
              "#7201a8"
             ],
             [
              0.3333333333333333,
              "#9c179e"
             ],
             [
              0.4444444444444444,
              "#bd3786"
             ],
             [
              0.5555555555555556,
              "#d8576b"
             ],
             [
              0.6666666666666666,
              "#ed7953"
             ],
             [
              0.7777777777777778,
              "#fb9f3a"
             ],
             [
              0.8888888888888888,
              "#fdca26"
             ],
             [
              1,
              "#f0f921"
             ]
            ],
            "type": "histogram2d"
           }
          ],
          "histogram2dcontour": [
           {
            "colorbar": {
             "outlinewidth": 0,
             "ticks": ""
            },
            "colorscale": [
             [
              0,
              "#0d0887"
             ],
             [
              0.1111111111111111,
              "#46039f"
             ],
             [
              0.2222222222222222,
              "#7201a8"
             ],
             [
              0.3333333333333333,
              "#9c179e"
             ],
             [
              0.4444444444444444,
              "#bd3786"
             ],
             [
              0.5555555555555556,
              "#d8576b"
             ],
             [
              0.6666666666666666,
              "#ed7953"
             ],
             [
              0.7777777777777778,
              "#fb9f3a"
             ],
             [
              0.8888888888888888,
              "#fdca26"
             ],
             [
              1,
              "#f0f921"
             ]
            ],
            "type": "histogram2dcontour"
           }
          ],
          "mesh3d": [
           {
            "colorbar": {
             "outlinewidth": 0,
             "ticks": ""
            },
            "type": "mesh3d"
           }
          ],
          "parcoords": [
           {
            "line": {
             "colorbar": {
              "outlinewidth": 0,
              "ticks": ""
             }
            },
            "type": "parcoords"
           }
          ],
          "pie": [
           {
            "automargin": true,
            "type": "pie"
           }
          ],
          "scatter": [
           {
            "fillpattern": {
             "fillmode": "overlay",
             "size": 10,
             "solidity": 0.2
            },
            "type": "scatter"
           }
          ],
          "scatter3d": [
           {
            "line": {
             "colorbar": {
              "outlinewidth": 0,
              "ticks": ""
             }
            },
            "marker": {
             "colorbar": {
              "outlinewidth": 0,
              "ticks": ""
             }
            },
            "type": "scatter3d"
           }
          ],
          "scattercarpet": [
           {
            "marker": {
             "colorbar": {
              "outlinewidth": 0,
              "ticks": ""
             }
            },
            "type": "scattercarpet"
           }
          ],
          "scattergeo": [
           {
            "marker": {
             "colorbar": {
              "outlinewidth": 0,
              "ticks": ""
             }
            },
            "type": "scattergeo"
           }
          ],
          "scattergl": [
           {
            "marker": {
             "colorbar": {
              "outlinewidth": 0,
              "ticks": ""
             }
            },
            "type": "scattergl"
           }
          ],
          "scattermapbox": [
           {
            "marker": {
             "colorbar": {
              "outlinewidth": 0,
              "ticks": ""
             }
            },
            "type": "scattermapbox"
           }
          ],
          "scatterpolar": [
           {
            "marker": {
             "colorbar": {
              "outlinewidth": 0,
              "ticks": ""
             }
            },
            "type": "scatterpolar"
           }
          ],
          "scatterpolargl": [
           {
            "marker": {
             "colorbar": {
              "outlinewidth": 0,
              "ticks": ""
             }
            },
            "type": "scatterpolargl"
           }
          ],
          "scatterternary": [
           {
            "marker": {
             "colorbar": {
              "outlinewidth": 0,
              "ticks": ""
             }
            },
            "type": "scatterternary"
           }
          ],
          "surface": [
           {
            "colorbar": {
             "outlinewidth": 0,
             "ticks": ""
            },
            "colorscale": [
             [
              0,
              "#0d0887"
             ],
             [
              0.1111111111111111,
              "#46039f"
             ],
             [
              0.2222222222222222,
              "#7201a8"
             ],
             [
              0.3333333333333333,
              "#9c179e"
             ],
             [
              0.4444444444444444,
              "#bd3786"
             ],
             [
              0.5555555555555556,
              "#d8576b"
             ],
             [
              0.6666666666666666,
              "#ed7953"
             ],
             [
              0.7777777777777778,
              "#fb9f3a"
             ],
             [
              0.8888888888888888,
              "#fdca26"
             ],
             [
              1,
              "#f0f921"
             ]
            ],
            "type": "surface"
           }
          ],
          "table": [
           {
            "cells": {
             "fill": {
              "color": "#EBF0F8"
             },
             "line": {
              "color": "white"
             }
            },
            "header": {
             "fill": {
              "color": "#C8D4E3"
             },
             "line": {
              "color": "white"
             }
            },
            "type": "table"
           }
          ]
         },
         "layout": {
          "annotationdefaults": {
           "arrowcolor": "#2a3f5f",
           "arrowhead": 0,
           "arrowwidth": 1
          },
          "autotypenumbers": "strict",
          "coloraxis": {
           "colorbar": {
            "outlinewidth": 0,
            "ticks": ""
           }
          },
          "colorscale": {
           "diverging": [
            [
             0,
             "#8e0152"
            ],
            [
             0.1,
             "#c51b7d"
            ],
            [
             0.2,
             "#de77ae"
            ],
            [
             0.3,
             "#f1b6da"
            ],
            [
             0.4,
             "#fde0ef"
            ],
            [
             0.5,
             "#f7f7f7"
            ],
            [
             0.6,
             "#e6f5d0"
            ],
            [
             0.7,
             "#b8e186"
            ],
            [
             0.8,
             "#7fbc41"
            ],
            [
             0.9,
             "#4d9221"
            ],
            [
             1,
             "#276419"
            ]
           ],
           "sequential": [
            [
             0,
             "#0d0887"
            ],
            [
             0.1111111111111111,
             "#46039f"
            ],
            [
             0.2222222222222222,
             "#7201a8"
            ],
            [
             0.3333333333333333,
             "#9c179e"
            ],
            [
             0.4444444444444444,
             "#bd3786"
            ],
            [
             0.5555555555555556,
             "#d8576b"
            ],
            [
             0.6666666666666666,
             "#ed7953"
            ],
            [
             0.7777777777777778,
             "#fb9f3a"
            ],
            [
             0.8888888888888888,
             "#fdca26"
            ],
            [
             1,
             "#f0f921"
            ]
           ],
           "sequentialminus": [
            [
             0,
             "#0d0887"
            ],
            [
             0.1111111111111111,
             "#46039f"
            ],
            [
             0.2222222222222222,
             "#7201a8"
            ],
            [
             0.3333333333333333,
             "#9c179e"
            ],
            [
             0.4444444444444444,
             "#bd3786"
            ],
            [
             0.5555555555555556,
             "#d8576b"
            ],
            [
             0.6666666666666666,
             "#ed7953"
            ],
            [
             0.7777777777777778,
             "#fb9f3a"
            ],
            [
             0.8888888888888888,
             "#fdca26"
            ],
            [
             1,
             "#f0f921"
            ]
           ]
          },
          "colorway": [
           "#636efa",
           "#EF553B",
           "#00cc96",
           "#ab63fa",
           "#FFA15A",
           "#19d3f3",
           "#FF6692",
           "#B6E880",
           "#FF97FF",
           "#FECB52"
          ],
          "font": {
           "color": "#2a3f5f"
          },
          "geo": {
           "bgcolor": "white",
           "lakecolor": "white",
           "landcolor": "#E5ECF6",
           "showlakes": true,
           "showland": true,
           "subunitcolor": "white"
          },
          "hoverlabel": {
           "align": "left"
          },
          "hovermode": "closest",
          "mapbox": {
           "style": "light"
          },
          "paper_bgcolor": "white",
          "plot_bgcolor": "#E5ECF6",
          "polar": {
           "angularaxis": {
            "gridcolor": "white",
            "linecolor": "white",
            "ticks": ""
           },
           "bgcolor": "#E5ECF6",
           "radialaxis": {
            "gridcolor": "white",
            "linecolor": "white",
            "ticks": ""
           }
          },
          "scene": {
           "xaxis": {
            "backgroundcolor": "#E5ECF6",
            "gridcolor": "white",
            "gridwidth": 2,
            "linecolor": "white",
            "showbackground": true,
            "ticks": "",
            "zerolinecolor": "white"
           },
           "yaxis": {
            "backgroundcolor": "#E5ECF6",
            "gridcolor": "white",
            "gridwidth": 2,
            "linecolor": "white",
            "showbackground": true,
            "ticks": "",
            "zerolinecolor": "white"
           },
           "zaxis": {
            "backgroundcolor": "#E5ECF6",
            "gridcolor": "white",
            "gridwidth": 2,
            "linecolor": "white",
            "showbackground": true,
            "ticks": "",
            "zerolinecolor": "white"
           }
          },
          "shapedefaults": {
           "line": {
            "color": "#2a3f5f"
           }
          },
          "ternary": {
           "aaxis": {
            "gridcolor": "white",
            "linecolor": "white",
            "ticks": ""
           },
           "baxis": {
            "gridcolor": "white",
            "linecolor": "white",
            "ticks": ""
           },
           "bgcolor": "#E5ECF6",
           "caxis": {
            "gridcolor": "white",
            "linecolor": "white",
            "ticks": ""
           }
          },
          "title": {
           "x": 0.05
          },
          "xaxis": {
           "automargin": true,
           "gridcolor": "white",
           "linecolor": "white",
           "ticks": "",
           "title": {
            "standoff": 15
           },
           "zerolinecolor": "white",
           "zerolinewidth": 2
          },
          "yaxis": {
           "automargin": true,
           "gridcolor": "white",
           "linecolor": "white",
           "ticks": "",
           "title": {
            "standoff": 15
           },
           "zerolinecolor": "white",
           "zerolinewidth": 2
          }
         }
        },
        "title": {
         "font": {
          "color": "#f64a69"
         },
         "text": "Companies in Data Science Jobs Postings and their Frequency"
        },
        "width": 1000,
        "xaxis": {
         "automargin": true,
         "tickangle": -45,
         "tickfont": {
          "color": "white",
          "size": 10
         },
         "title": {
          "font": {
           "color": "#f64a69"
          },
          "text": "Company"
         }
        },
        "yaxis": {
         "tickfont": {
          "color": "white",
          "size": 10
         },
         "title": {
          "font": {
           "color": "#f64a69"
          },
          "text": "Frequency"
         }
        }
       }
      },
      "text/html": [
       "<div>                            <div id=\"7b5eb5dc-35e8-439f-a784-2b171dbb82f1\" class=\"plotly-graph-div\" style=\"height:600px; width:1000px;\"></div>            <script type=\"text/javascript\">                require([\"plotly\"], function(Plotly) {                    window.PLOTLYENV=window.PLOTLYENV || {};                                    if (document.getElementById(\"7b5eb5dc-35e8-439f-a784-2b171dbb82f1\")) {                    Plotly.newPlot(                        \"7b5eb5dc-35e8-439f-a784-2b171dbb82f1\",                        [{\"marker\":{\"color\":\"#f64a69\",\"line\":{\"width\":0.5}},\"x\":[\"Accenture\",\"TRH Consultancy Services\",\"PwC\",\"Tiger Analytics\",\"Skillety\",\"Primo Hiring\",\"Nagarro\",\"Dr Reddys\",\"CARBYNETECH\",\"Okda Solutions\",\"Mondelez\",\"LogiNext\",\"Talent Socio\",\"Copeland\",\"Walmart\",\"Tata Capital\",\"Dimensions HRD Consultants\",\"Denave\",\"Response Informatics\",\"Bajaj Finserv Ltd.\",\"Technovert\",\"Shell\",\"Xoom\",\"Paytm\",\"All About It India\",\"Intone Networks\",\"3i Infotech\",\"Xcel Hires Managment Solutions Pvt Ltd\",\"Buckman\",\"Ira Commerce\",\"Serving Skill\",\"Career Infosystem\",\"HyrEzy Talent Solution\",\"Navit Software Solutions\",\"Shreeniwas\",\"Pylon Management Consulting\",\"Seacross Recruitment Services\",\"Globaldata\",\"KPMG Global Services\",\"Visa Inc\",\"Jet2 Travel Technologies\",\"Benovymed Healthcare\",\"Triangle Global\",\"AVE-Promagne Business Solutions\",\"Wellcrew Staffing Solutions\",\"Globals Ites\",\"Support Star Corporate\",\"LKQ India\",\"Reed And Willow ( A Unit Of Talright Technologies )\",\"Findability Sciences\",\"Cognizant\",\"Varite\",\"Wolters Kluwer\",\"GXO Logistics\",\"Imagecon India\",\"Digilytics\",\"Prime Search\",\"Softweb Solutions\",\"Soothsayer Analytics\",\"Beechi Vidya Kendra Trust\",\"Zeominds It Solutions\",\"Pranathi Software Services\",\"Flytxt\",\"Strategic Talent\",\"Pratham Edusys\",\"Muthoot Microfin\",\"ICICI Bank\",\"Megma Services\",\"Anurag Electronic Gujarat\",\"4S Advisory\",\"Topgear Consultants\",\"Websoullabs\",\"IndiaFirst Life\",\"V Konnect \",\"GSK\",\"Redbox\",\"Aspyra Hr Services\",\"GSK India\",\"Disha Consultants\",\"Fractal Analytics\",\"Reliance Games\",\"Google Asia Pacific\",\"Grid Dynamics\",\"Zoom Info\",\"Arbeit Associates\",\"Talent Zone Consultant\",\"Xpheno\",\"Diverse Infotech\",\"Flipkart\",\"Virtuoso Staffing Solutions\",\"Hbic Solutions\",\"Unique Occupational Services (UOS)\",\"Estee Advisors\",\"Agile Airport Services\",\"Capco\",\"The Nikharv Consultancy\",\"Genpact\",\"Terafin Infotech\",\"INFOWIZ\",\"Ford\",\"Boston Consulting Group\",\"Indiqsoft Solutions\",\"Finsire\",\"Sagility India\",\"ASG Technologies\",\"Analytos\",\"Graphic Era Deemed to be University \",\"Nissan Technical Centre\",\"Merilytics\",\"Innovominds Solutions\",\"Vertex Corporate Services (i)\",\"Arbo Technologies\",\"Talent500\",\"Tata Chemicals\",\"BMC Software\",\"unnati\",\"Meera Hr Verticals\",\"Oracle\",\"PayU\",\"DUN BRADSTREET INFORMATION SERVICES INDIA PRIVATE LIMITED\",\"Career Foresight Hr Solution Llp\",\"Ninestars Information Technologies\",\"Radial Hr Solutions\",\"Tata Elxsi\",\"Brave Ai Lab\",\"MNJ Software\",\"V Mart\",\"Western Union Financial Services, Inc\",\"Ihub Anubhuti\",\"Loyalytics Consulting\",\"AMERICAN EXPRESS\",\"Bajaj Finance\",\"ServiceNow\",\"Service Now Planet\",\"AugustCode Solutions Pvt. Ltd.\",\"Nadal Business Services Pvt Ltd\",\"Flip Robo Technologies\",\"CAMBRIDGE TECHNOLOGY ENTERPRISES (CTE)\",\"Emerson\",\"Tredence\",\"Antworks\",\"Rintelo Consulting\",\"Techsist Solution\",\"MothersonSumi INfotech & Designs (MIND)\",\"Cerner\",\"Ethnotech Academy\",\"Innominds Software\",\"Axa Technology Services\",\"Digit88\",\"Xitadel\",\"IPS Technology Services\",\"Xperthunt Systems\",\"Hirestaar Job Bank\",\"The Smart Cube\",\"Manpowergroup Services India\",\"Twirll\",\"Epiq Systems, Inc.\",\"alight\",\"QiO\",\"Quantta Analytics Pvt Ltd.\",\"Consilium Software\",\"Circle K Stores Inc\",\"SPM Jobs\",\"Booking Holdings\",\"Limendo\",\"SRS Business Solutions (india)\",\"Bairesdev Llc\",\"Pepsi Foods\",\"Uncodemy\",\"Medtoureasy\",\"Conneqt Digital\",\"Essenware\",\"General Mills\",\"Myfuturejobs\",\"OptOut.Work\",\"Epiq Global\",\"Alp Consulting\",\"XPO\",\"BNY Mellon\",\"Techvidya Career\",\"Rtwo Healthcare Solutions Llp\",\"Quiksync Technologies Llp\"],\"y\":[24,12,8,7,7,6,5,4,4,4,4,4,3,3,3,3,3,3,3,3,3,2,2,2,2,2,2,2,2,2,2,2,2,2,2,2,2,2,2,2,2,2,2,2,1,1,1,1,1,1,1,1,1,1,1,1,1,1,1,1,1,1,1,1,1,1,1,1,1,1,1,1,1,1,1,1,1,1,1,1,1,1,1,1,1,1,1,1,1,1,1,1,1,1,1,1,1,1,1,1,1,1,1,1,1,1,1,1,1,1,1,1,1,1,1,1,1,1,1,1,1,1,1,1,1,1,1,1,1,1,1,1,1,1,1,1,1,1,1,1,1,1,1,1,1,1,1,1,1,1,1,1,1,1,1,1,1,1,1,1,1,1,1,1,1,1,1,1,1,1,1,1,1,1,1,1,1,1,1,1,1,1],\"type\":\"bar\"}],                        {\"template\":{\"data\":{\"histogram2dcontour\":[{\"type\":\"histogram2dcontour\",\"colorbar\":{\"outlinewidth\":0,\"ticks\":\"\"},\"colorscale\":[[0.0,\"#0d0887\"],[0.1111111111111111,\"#46039f\"],[0.2222222222222222,\"#7201a8\"],[0.3333333333333333,\"#9c179e\"],[0.4444444444444444,\"#bd3786\"],[0.5555555555555556,\"#d8576b\"],[0.6666666666666666,\"#ed7953\"],[0.7777777777777778,\"#fb9f3a\"],[0.8888888888888888,\"#fdca26\"],[1.0,\"#f0f921\"]]}],\"choropleth\":[{\"type\":\"choropleth\",\"colorbar\":{\"outlinewidth\":0,\"ticks\":\"\"}}],\"histogram2d\":[{\"type\":\"histogram2d\",\"colorbar\":{\"outlinewidth\":0,\"ticks\":\"\"},\"colorscale\":[[0.0,\"#0d0887\"],[0.1111111111111111,\"#46039f\"],[0.2222222222222222,\"#7201a8\"],[0.3333333333333333,\"#9c179e\"],[0.4444444444444444,\"#bd3786\"],[0.5555555555555556,\"#d8576b\"],[0.6666666666666666,\"#ed7953\"],[0.7777777777777778,\"#fb9f3a\"],[0.8888888888888888,\"#fdca26\"],[1.0,\"#f0f921\"]]}],\"heatmap\":[{\"type\":\"heatmap\",\"colorbar\":{\"outlinewidth\":0,\"ticks\":\"\"},\"colorscale\":[[0.0,\"#0d0887\"],[0.1111111111111111,\"#46039f\"],[0.2222222222222222,\"#7201a8\"],[0.3333333333333333,\"#9c179e\"],[0.4444444444444444,\"#bd3786\"],[0.5555555555555556,\"#d8576b\"],[0.6666666666666666,\"#ed7953\"],[0.7777777777777778,\"#fb9f3a\"],[0.8888888888888888,\"#fdca26\"],[1.0,\"#f0f921\"]]}],\"heatmapgl\":[{\"type\":\"heatmapgl\",\"colorbar\":{\"outlinewidth\":0,\"ticks\":\"\"},\"colorscale\":[[0.0,\"#0d0887\"],[0.1111111111111111,\"#46039f\"],[0.2222222222222222,\"#7201a8\"],[0.3333333333333333,\"#9c179e\"],[0.4444444444444444,\"#bd3786\"],[0.5555555555555556,\"#d8576b\"],[0.6666666666666666,\"#ed7953\"],[0.7777777777777778,\"#fb9f3a\"],[0.8888888888888888,\"#fdca26\"],[1.0,\"#f0f921\"]]}],\"contourcarpet\":[{\"type\":\"contourcarpet\",\"colorbar\":{\"outlinewidth\":0,\"ticks\":\"\"}}],\"contour\":[{\"type\":\"contour\",\"colorbar\":{\"outlinewidth\":0,\"ticks\":\"\"},\"colorscale\":[[0.0,\"#0d0887\"],[0.1111111111111111,\"#46039f\"],[0.2222222222222222,\"#7201a8\"],[0.3333333333333333,\"#9c179e\"],[0.4444444444444444,\"#bd3786\"],[0.5555555555555556,\"#d8576b\"],[0.6666666666666666,\"#ed7953\"],[0.7777777777777778,\"#fb9f3a\"],[0.8888888888888888,\"#fdca26\"],[1.0,\"#f0f921\"]]}],\"surface\":[{\"type\":\"surface\",\"colorbar\":{\"outlinewidth\":0,\"ticks\":\"\"},\"colorscale\":[[0.0,\"#0d0887\"],[0.1111111111111111,\"#46039f\"],[0.2222222222222222,\"#7201a8\"],[0.3333333333333333,\"#9c179e\"],[0.4444444444444444,\"#bd3786\"],[0.5555555555555556,\"#d8576b\"],[0.6666666666666666,\"#ed7953\"],[0.7777777777777778,\"#fb9f3a\"],[0.8888888888888888,\"#fdca26\"],[1.0,\"#f0f921\"]]}],\"mesh3d\":[{\"type\":\"mesh3d\",\"colorbar\":{\"outlinewidth\":0,\"ticks\":\"\"}}],\"scatter\":[{\"fillpattern\":{\"fillmode\":\"overlay\",\"size\":10,\"solidity\":0.2},\"type\":\"scatter\"}],\"parcoords\":[{\"type\":\"parcoords\",\"line\":{\"colorbar\":{\"outlinewidth\":0,\"ticks\":\"\"}}}],\"scatterpolargl\":[{\"type\":\"scatterpolargl\",\"marker\":{\"colorbar\":{\"outlinewidth\":0,\"ticks\":\"\"}}}],\"bar\":[{\"error_x\":{\"color\":\"#2a3f5f\"},\"error_y\":{\"color\":\"#2a3f5f\"},\"marker\":{\"line\":{\"color\":\"#E5ECF6\",\"width\":0.5},\"pattern\":{\"fillmode\":\"overlay\",\"size\":10,\"solidity\":0.2}},\"type\":\"bar\"}],\"scattergeo\":[{\"type\":\"scattergeo\",\"marker\":{\"colorbar\":{\"outlinewidth\":0,\"ticks\":\"\"}}}],\"scatterpolar\":[{\"type\":\"scatterpolar\",\"marker\":{\"colorbar\":{\"outlinewidth\":0,\"ticks\":\"\"}}}],\"histogram\":[{\"marker\":{\"pattern\":{\"fillmode\":\"overlay\",\"size\":10,\"solidity\":0.2}},\"type\":\"histogram\"}],\"scattergl\":[{\"type\":\"scattergl\",\"marker\":{\"colorbar\":{\"outlinewidth\":0,\"ticks\":\"\"}}}],\"scatter3d\":[{\"type\":\"scatter3d\",\"line\":{\"colorbar\":{\"outlinewidth\":0,\"ticks\":\"\"}},\"marker\":{\"colorbar\":{\"outlinewidth\":0,\"ticks\":\"\"}}}],\"scattermapbox\":[{\"type\":\"scattermapbox\",\"marker\":{\"colorbar\":{\"outlinewidth\":0,\"ticks\":\"\"}}}],\"scatterternary\":[{\"type\":\"scatterternary\",\"marker\":{\"colorbar\":{\"outlinewidth\":0,\"ticks\":\"\"}}}],\"scattercarpet\":[{\"type\":\"scattercarpet\",\"marker\":{\"colorbar\":{\"outlinewidth\":0,\"ticks\":\"\"}}}],\"carpet\":[{\"aaxis\":{\"endlinecolor\":\"#2a3f5f\",\"gridcolor\":\"white\",\"linecolor\":\"white\",\"minorgridcolor\":\"white\",\"startlinecolor\":\"#2a3f5f\"},\"baxis\":{\"endlinecolor\":\"#2a3f5f\",\"gridcolor\":\"white\",\"linecolor\":\"white\",\"minorgridcolor\":\"white\",\"startlinecolor\":\"#2a3f5f\"},\"type\":\"carpet\"}],\"table\":[{\"cells\":{\"fill\":{\"color\":\"#EBF0F8\"},\"line\":{\"color\":\"white\"}},\"header\":{\"fill\":{\"color\":\"#C8D4E3\"},\"line\":{\"color\":\"white\"}},\"type\":\"table\"}],\"barpolar\":[{\"marker\":{\"line\":{\"color\":\"#E5ECF6\",\"width\":0.5},\"pattern\":{\"fillmode\":\"overlay\",\"size\":10,\"solidity\":0.2}},\"type\":\"barpolar\"}],\"pie\":[{\"automargin\":true,\"type\":\"pie\"}]},\"layout\":{\"autotypenumbers\":\"strict\",\"colorway\":[\"#636efa\",\"#EF553B\",\"#00cc96\",\"#ab63fa\",\"#FFA15A\",\"#19d3f3\",\"#FF6692\",\"#B6E880\",\"#FF97FF\",\"#FECB52\"],\"font\":{\"color\":\"#2a3f5f\"},\"hovermode\":\"closest\",\"hoverlabel\":{\"align\":\"left\"},\"paper_bgcolor\":\"white\",\"plot_bgcolor\":\"#E5ECF6\",\"polar\":{\"bgcolor\":\"#E5ECF6\",\"angularaxis\":{\"gridcolor\":\"white\",\"linecolor\":\"white\",\"ticks\":\"\"},\"radialaxis\":{\"gridcolor\":\"white\",\"linecolor\":\"white\",\"ticks\":\"\"}},\"ternary\":{\"bgcolor\":\"#E5ECF6\",\"aaxis\":{\"gridcolor\":\"white\",\"linecolor\":\"white\",\"ticks\":\"\"},\"baxis\":{\"gridcolor\":\"white\",\"linecolor\":\"white\",\"ticks\":\"\"},\"caxis\":{\"gridcolor\":\"white\",\"linecolor\":\"white\",\"ticks\":\"\"}},\"coloraxis\":{\"colorbar\":{\"outlinewidth\":0,\"ticks\":\"\"}},\"colorscale\":{\"sequential\":[[0.0,\"#0d0887\"],[0.1111111111111111,\"#46039f\"],[0.2222222222222222,\"#7201a8\"],[0.3333333333333333,\"#9c179e\"],[0.4444444444444444,\"#bd3786\"],[0.5555555555555556,\"#d8576b\"],[0.6666666666666666,\"#ed7953\"],[0.7777777777777778,\"#fb9f3a\"],[0.8888888888888888,\"#fdca26\"],[1.0,\"#f0f921\"]],\"sequentialminus\":[[0.0,\"#0d0887\"],[0.1111111111111111,\"#46039f\"],[0.2222222222222222,\"#7201a8\"],[0.3333333333333333,\"#9c179e\"],[0.4444444444444444,\"#bd3786\"],[0.5555555555555556,\"#d8576b\"],[0.6666666666666666,\"#ed7953\"],[0.7777777777777778,\"#fb9f3a\"],[0.8888888888888888,\"#fdca26\"],[1.0,\"#f0f921\"]],\"diverging\":[[0,\"#8e0152\"],[0.1,\"#c51b7d\"],[0.2,\"#de77ae\"],[0.3,\"#f1b6da\"],[0.4,\"#fde0ef\"],[0.5,\"#f7f7f7\"],[0.6,\"#e6f5d0\"],[0.7,\"#b8e186\"],[0.8,\"#7fbc41\"],[0.9,\"#4d9221\"],[1,\"#276419\"]]},\"xaxis\":{\"gridcolor\":\"white\",\"linecolor\":\"white\",\"ticks\":\"\",\"title\":{\"standoff\":15},\"zerolinecolor\":\"white\",\"automargin\":true,\"zerolinewidth\":2},\"yaxis\":{\"gridcolor\":\"white\",\"linecolor\":\"white\",\"ticks\":\"\",\"title\":{\"standoff\":15},\"zerolinecolor\":\"white\",\"automargin\":true,\"zerolinewidth\":2},\"scene\":{\"xaxis\":{\"backgroundcolor\":\"#E5ECF6\",\"gridcolor\":\"white\",\"linecolor\":\"white\",\"showbackground\":true,\"ticks\":\"\",\"zerolinecolor\":\"white\",\"gridwidth\":2},\"yaxis\":{\"backgroundcolor\":\"#E5ECF6\",\"gridcolor\":\"white\",\"linecolor\":\"white\",\"showbackground\":true,\"ticks\":\"\",\"zerolinecolor\":\"white\",\"gridwidth\":2},\"zaxis\":{\"backgroundcolor\":\"#E5ECF6\",\"gridcolor\":\"white\",\"linecolor\":\"white\",\"showbackground\":true,\"ticks\":\"\",\"zerolinecolor\":\"white\",\"gridwidth\":2}},\"shapedefaults\":{\"line\":{\"color\":\"#2a3f5f\"}},\"annotationdefaults\":{\"arrowcolor\":\"#2a3f5f\",\"arrowhead\":0,\"arrowwidth\":1},\"geo\":{\"bgcolor\":\"white\",\"landcolor\":\"#E5ECF6\",\"subunitcolor\":\"white\",\"showland\":true,\"showlakes\":true,\"lakecolor\":\"white\"},\"title\":{\"x\":0.05},\"mapbox\":{\"style\":\"light\"}}},\"xaxis\":{\"title\":{\"text\":\"Company\",\"font\":{\"color\":\"#f64a69\"}},\"tickfont\":{\"size\":10,\"color\":\"white\"},\"tickangle\":-45,\"automargin\":true},\"yaxis\":{\"tickfont\":{\"size\":10,\"color\":\"white\"},\"title\":{\"text\":\"Frequency\",\"font\":{\"color\":\"#f64a69\"}}},\"title\":{\"text\":\"Companies in Data Science Jobs Postings and their Frequency\",\"font\":{\"color\":\"#f64a69\"}},\"height\":600,\"width\":1000,\"plot_bgcolor\":\"rgb(40, 40, 40)\",\"paper_bgcolor\":\"rgb(40, 40, 40)\"},                        {\"responsive\": true}                    ).then(function(){\n",
       "                            \n",
       "var gd = document.getElementById('7b5eb5dc-35e8-439f-a784-2b171dbb82f1');\n",
       "var x = new MutationObserver(function (mutations, observer) {{\n",
       "        var display = window.getComputedStyle(gd).display;\n",
       "        if (!display || display === 'none') {{\n",
       "            console.log([gd, 'removed!']);\n",
       "            Plotly.purge(gd);\n",
       "            observer.disconnect();\n",
       "        }}\n",
       "}});\n",
       "\n",
       "// Listen for the removal of the full notebook cells\n",
       "var notebookContainer = gd.closest('#notebook-container');\n",
       "if (notebookContainer) {{\n",
       "    x.observe(notebookContainer, {childList: true});\n",
       "}}\n",
       "\n",
       "// Listen for the clearing of the current output cell\n",
       "var outputEl = gd.closest('.output');\n",
       "if (outputEl) {{\n",
       "    x.observe(outputEl, {childList: true});\n",
       "}}\n",
       "\n",
       "                        })                };                });            </script>        </div>"
      ]
     },
     "metadata": {},
     "output_type": "display_data"
    }
   ],
   "source": [
    "data = list(job_portal['Company'].value_counts().items())\n",
    "companies = [item[0] for item in data]\n",
    "frequencies = [item[1] for item in data]\n",
    "\n",
    "background_color = 'rgb(40, 40, 40)'\n",
    "fig = go.Figure(data=[go.Bar(x=companies, y=frequencies, marker=dict(color='#f64a69'))])\n",
    "\n",
    "fig.update_layout(\n",
    "    title=\"Companies in {} Postings and their Frequency\".format(job_type.title()),\n",
    "    xaxis=dict(\n",
    "        title=\"Company\",\n",
    "        title_font=dict(color='#f64a69'),\n",
    "        tickangle=-45,\n",
    "        automargin=True,\n",
    "        tickfont=dict(size=10, color='white'),  # Change tick labels color to white\n",
    "    ),\n",
    "    yaxis=dict(title=\"Frequency\", tickfont=dict(size=10, color='white'), title_font=dict(color='#f64a69')),\n",
    "    height=600,  # Reduce the height to make space for labels\n",
    "    width=1000,\n",
    "    plot_bgcolor=background_color,\n",
    "    paper_bgcolor=background_color,\n",
    "    title_font=dict(color='#f64a69')\n",
    ")\n",
    "\n",
    "# Adjust the bar width to reduce the gap between bars\n",
    "fig.update_traces(marker=dict(line=dict(width=0.5)), selector=dict(type='bar'))\n",
    "\n",
    "fig.show()"
   ]
  },
  {
   "cell_type": "code",
   "execution_count": 55,
   "id": "746b3130",
   "metadata": {},
   "outputs": [
    {
     "data": {
      "application/vnd.plotly.v1+json": {
       "config": {
        "plotlyServerURL": "https://plot.ly"
       },
       "data": [
        {
         "marker": {
          "color": "rgb(255, 105, 180)",
          "line": {
           "width": 0.5
          }
         },
         "type": "bar",
         "x": [
          "Mumbai",
          "Hyderabad/Secunderabad",
          "Chennai",
          "Bangalore/Bengaluru",
          "Kolkata",
          "New Delhi",
          "Pune",
          "Ahmedabad",
          "Delhi / NCR",
          "Maharashtra",
          "Remote",
          "Gurgaon/ Gurugram",
          "Haryana",
          "Hybrid - Noida",
          "Uttar Pradesh",
          "Gurgaon/Gurugram",
          "Hybrid - Chennai",
          "Noida",
          "Hybrid - Hyderabad/Secunderabad",
          "Hybrid - Hyderabad/Secunderabad(Kondapur)",
          "Delhi",
          "Hybrid - Bangalore/Bengaluru",
          "Mumbai (All Areas)",
          "Temp. WFH - Pune",
          "Warangal",
          "Tiruchirapalli/Trichy",
          "Madurai",
          "Kochi/Cochin",
          "Ernakulam",
          "Kerala",
          "Coimbatore",
          "Betul",
          "Nagpur",
          "Nizamabad",
          "Noida(Sector-2 Noida)",
          "Hyderabad/ Secunderabad",
          "Telangana",
          "Bangalore/ Bengaluru",
          "Karnataka",
          "Thrissur/Trichur",
          "Calicut/Kozhikode",
          "Trivandrum/Thiruvananthapuram",
          "Chandigarh",
          "Kalyani",
          "Salem",
          "Aurangabad",
          "Visakhapatnam",
          "Bangalore/Bengaluru(Bannerghatta Road)",
          "Hybrid - Bangalore/ Bengaluru",
          "Gandhinagar",
          "Gujarat",
          "Hybrid - Kolkata",
          "Tamil Nadu",
          "Temp. WFH - Kolkata",
          "Andheri East",
          "Dehradun",
          "Uttarakhand",
          "Gurgaon",
          "Hybrid - Pune",
          "Jaipur",
          "Hybrid - Gurgaon/ Gurugram"
         ],
         "y": [
          66,
          90,
          73,
          127,
          33,
          20,
          67,
          11,
          30,
          2,
          15,
          6,
          7,
          3,
          8,
          16,
          3,
          16,
          5,
          2,
          4,
          2,
          6,
          1,
          2,
          1,
          1,
          5,
          2,
          1,
          12,
          1,
          4,
          1,
          1,
          2,
          2,
          7,
          8,
          1,
          1,
          3,
          1,
          1,
          1,
          1,
          2,
          1,
          1,
          1,
          1,
          1,
          5,
          3,
          1,
          1,
          1,
          1,
          1,
          1,
          1
         ]
        }
       ],
       "layout": {
        "height": 500,
        "paper_bgcolor": "rgb(70, 70, 100)",
        "plot_bgcolor": "rgb(70, 70, 100)",
        "template": {
         "data": {
          "bar": [
           {
            "error_x": {
             "color": "#2a3f5f"
            },
            "error_y": {
             "color": "#2a3f5f"
            },
            "marker": {
             "line": {
              "color": "#E5ECF6",
              "width": 0.5
             },
             "pattern": {
              "fillmode": "overlay",
              "size": 10,
              "solidity": 0.2
             }
            },
            "type": "bar"
           }
          ],
          "barpolar": [
           {
            "marker": {
             "line": {
              "color": "#E5ECF6",
              "width": 0.5
             },
             "pattern": {
              "fillmode": "overlay",
              "size": 10,
              "solidity": 0.2
             }
            },
            "type": "barpolar"
           }
          ],
          "carpet": [
           {
            "aaxis": {
             "endlinecolor": "#2a3f5f",
             "gridcolor": "white",
             "linecolor": "white",
             "minorgridcolor": "white",
             "startlinecolor": "#2a3f5f"
            },
            "baxis": {
             "endlinecolor": "#2a3f5f",
             "gridcolor": "white",
             "linecolor": "white",
             "minorgridcolor": "white",
             "startlinecolor": "#2a3f5f"
            },
            "type": "carpet"
           }
          ],
          "choropleth": [
           {
            "colorbar": {
             "outlinewidth": 0,
             "ticks": ""
            },
            "type": "choropleth"
           }
          ],
          "contour": [
           {
            "colorbar": {
             "outlinewidth": 0,
             "ticks": ""
            },
            "colorscale": [
             [
              0,
              "#0d0887"
             ],
             [
              0.1111111111111111,
              "#46039f"
             ],
             [
              0.2222222222222222,
              "#7201a8"
             ],
             [
              0.3333333333333333,
              "#9c179e"
             ],
             [
              0.4444444444444444,
              "#bd3786"
             ],
             [
              0.5555555555555556,
              "#d8576b"
             ],
             [
              0.6666666666666666,
              "#ed7953"
             ],
             [
              0.7777777777777778,
              "#fb9f3a"
             ],
             [
              0.8888888888888888,
              "#fdca26"
             ],
             [
              1,
              "#f0f921"
             ]
            ],
            "type": "contour"
           }
          ],
          "contourcarpet": [
           {
            "colorbar": {
             "outlinewidth": 0,
             "ticks": ""
            },
            "type": "contourcarpet"
           }
          ],
          "heatmap": [
           {
            "colorbar": {
             "outlinewidth": 0,
             "ticks": ""
            },
            "colorscale": [
             [
              0,
              "#0d0887"
             ],
             [
              0.1111111111111111,
              "#46039f"
             ],
             [
              0.2222222222222222,
              "#7201a8"
             ],
             [
              0.3333333333333333,
              "#9c179e"
             ],
             [
              0.4444444444444444,
              "#bd3786"
             ],
             [
              0.5555555555555556,
              "#d8576b"
             ],
             [
              0.6666666666666666,
              "#ed7953"
             ],
             [
              0.7777777777777778,
              "#fb9f3a"
             ],
             [
              0.8888888888888888,
              "#fdca26"
             ],
             [
              1,
              "#f0f921"
             ]
            ],
            "type": "heatmap"
           }
          ],
          "heatmapgl": [
           {
            "colorbar": {
             "outlinewidth": 0,
             "ticks": ""
            },
            "colorscale": [
             [
              0,
              "#0d0887"
             ],
             [
              0.1111111111111111,
              "#46039f"
             ],
             [
              0.2222222222222222,
              "#7201a8"
             ],
             [
              0.3333333333333333,
              "#9c179e"
             ],
             [
              0.4444444444444444,
              "#bd3786"
             ],
             [
              0.5555555555555556,
              "#d8576b"
             ],
             [
              0.6666666666666666,
              "#ed7953"
             ],
             [
              0.7777777777777778,
              "#fb9f3a"
             ],
             [
              0.8888888888888888,
              "#fdca26"
             ],
             [
              1,
              "#f0f921"
             ]
            ],
            "type": "heatmapgl"
           }
          ],
          "histogram": [
           {
            "marker": {
             "pattern": {
              "fillmode": "overlay",
              "size": 10,
              "solidity": 0.2
             }
            },
            "type": "histogram"
           }
          ],
          "histogram2d": [
           {
            "colorbar": {
             "outlinewidth": 0,
             "ticks": ""
            },
            "colorscale": [
             [
              0,
              "#0d0887"
             ],
             [
              0.1111111111111111,
              "#46039f"
             ],
             [
              0.2222222222222222,
              "#7201a8"
             ],
             [
              0.3333333333333333,
              "#9c179e"
             ],
             [
              0.4444444444444444,
              "#bd3786"
             ],
             [
              0.5555555555555556,
              "#d8576b"
             ],
             [
              0.6666666666666666,
              "#ed7953"
             ],
             [
              0.7777777777777778,
              "#fb9f3a"
             ],
             [
              0.8888888888888888,
              "#fdca26"
             ],
             [
              1,
              "#f0f921"
             ]
            ],
            "type": "histogram2d"
           }
          ],
          "histogram2dcontour": [
           {
            "colorbar": {
             "outlinewidth": 0,
             "ticks": ""
            },
            "colorscale": [
             [
              0,
              "#0d0887"
             ],
             [
              0.1111111111111111,
              "#46039f"
             ],
             [
              0.2222222222222222,
              "#7201a8"
             ],
             [
              0.3333333333333333,
              "#9c179e"
             ],
             [
              0.4444444444444444,
              "#bd3786"
             ],
             [
              0.5555555555555556,
              "#d8576b"
             ],
             [
              0.6666666666666666,
              "#ed7953"
             ],
             [
              0.7777777777777778,
              "#fb9f3a"
             ],
             [
              0.8888888888888888,
              "#fdca26"
             ],
             [
              1,
              "#f0f921"
             ]
            ],
            "type": "histogram2dcontour"
           }
          ],
          "mesh3d": [
           {
            "colorbar": {
             "outlinewidth": 0,
             "ticks": ""
            },
            "type": "mesh3d"
           }
          ],
          "parcoords": [
           {
            "line": {
             "colorbar": {
              "outlinewidth": 0,
              "ticks": ""
             }
            },
            "type": "parcoords"
           }
          ],
          "pie": [
           {
            "automargin": true,
            "type": "pie"
           }
          ],
          "scatter": [
           {
            "fillpattern": {
             "fillmode": "overlay",
             "size": 10,
             "solidity": 0.2
            },
            "type": "scatter"
           }
          ],
          "scatter3d": [
           {
            "line": {
             "colorbar": {
              "outlinewidth": 0,
              "ticks": ""
             }
            },
            "marker": {
             "colorbar": {
              "outlinewidth": 0,
              "ticks": ""
             }
            },
            "type": "scatter3d"
           }
          ],
          "scattercarpet": [
           {
            "marker": {
             "colorbar": {
              "outlinewidth": 0,
              "ticks": ""
             }
            },
            "type": "scattercarpet"
           }
          ],
          "scattergeo": [
           {
            "marker": {
             "colorbar": {
              "outlinewidth": 0,
              "ticks": ""
             }
            },
            "type": "scattergeo"
           }
          ],
          "scattergl": [
           {
            "marker": {
             "colorbar": {
              "outlinewidth": 0,
              "ticks": ""
             }
            },
            "type": "scattergl"
           }
          ],
          "scattermapbox": [
           {
            "marker": {
             "colorbar": {
              "outlinewidth": 0,
              "ticks": ""
             }
            },
            "type": "scattermapbox"
           }
          ],
          "scatterpolar": [
           {
            "marker": {
             "colorbar": {
              "outlinewidth": 0,
              "ticks": ""
             }
            },
            "type": "scatterpolar"
           }
          ],
          "scatterpolargl": [
           {
            "marker": {
             "colorbar": {
              "outlinewidth": 0,
              "ticks": ""
             }
            },
            "type": "scatterpolargl"
           }
          ],
          "scatterternary": [
           {
            "marker": {
             "colorbar": {
              "outlinewidth": 0,
              "ticks": ""
             }
            },
            "type": "scatterternary"
           }
          ],
          "surface": [
           {
            "colorbar": {
             "outlinewidth": 0,
             "ticks": ""
            },
            "colorscale": [
             [
              0,
              "#0d0887"
             ],
             [
              0.1111111111111111,
              "#46039f"
             ],
             [
              0.2222222222222222,
              "#7201a8"
             ],
             [
              0.3333333333333333,
              "#9c179e"
             ],
             [
              0.4444444444444444,
              "#bd3786"
             ],
             [
              0.5555555555555556,
              "#d8576b"
             ],
             [
              0.6666666666666666,
              "#ed7953"
             ],
             [
              0.7777777777777778,
              "#fb9f3a"
             ],
             [
              0.8888888888888888,
              "#fdca26"
             ],
             [
              1,
              "#f0f921"
             ]
            ],
            "type": "surface"
           }
          ],
          "table": [
           {
            "cells": {
             "fill": {
              "color": "#EBF0F8"
             },
             "line": {
              "color": "white"
             }
            },
            "header": {
             "fill": {
              "color": "#C8D4E3"
             },
             "line": {
              "color": "white"
             }
            },
            "type": "table"
           }
          ]
         },
         "layout": {
          "annotationdefaults": {
           "arrowcolor": "#2a3f5f",
           "arrowhead": 0,
           "arrowwidth": 1
          },
          "autotypenumbers": "strict",
          "coloraxis": {
           "colorbar": {
            "outlinewidth": 0,
            "ticks": ""
           }
          },
          "colorscale": {
           "diverging": [
            [
             0,
             "#8e0152"
            ],
            [
             0.1,
             "#c51b7d"
            ],
            [
             0.2,
             "#de77ae"
            ],
            [
             0.3,
             "#f1b6da"
            ],
            [
             0.4,
             "#fde0ef"
            ],
            [
             0.5,
             "#f7f7f7"
            ],
            [
             0.6,
             "#e6f5d0"
            ],
            [
             0.7,
             "#b8e186"
            ],
            [
             0.8,
             "#7fbc41"
            ],
            [
             0.9,
             "#4d9221"
            ],
            [
             1,
             "#276419"
            ]
           ],
           "sequential": [
            [
             0,
             "#0d0887"
            ],
            [
             0.1111111111111111,
             "#46039f"
            ],
            [
             0.2222222222222222,
             "#7201a8"
            ],
            [
             0.3333333333333333,
             "#9c179e"
            ],
            [
             0.4444444444444444,
             "#bd3786"
            ],
            [
             0.5555555555555556,
             "#d8576b"
            ],
            [
             0.6666666666666666,
             "#ed7953"
            ],
            [
             0.7777777777777778,
             "#fb9f3a"
            ],
            [
             0.8888888888888888,
             "#fdca26"
            ],
            [
             1,
             "#f0f921"
            ]
           ],
           "sequentialminus": [
            [
             0,
             "#0d0887"
            ],
            [
             0.1111111111111111,
             "#46039f"
            ],
            [
             0.2222222222222222,
             "#7201a8"
            ],
            [
             0.3333333333333333,
             "#9c179e"
            ],
            [
             0.4444444444444444,
             "#bd3786"
            ],
            [
             0.5555555555555556,
             "#d8576b"
            ],
            [
             0.6666666666666666,
             "#ed7953"
            ],
            [
             0.7777777777777778,
             "#fb9f3a"
            ],
            [
             0.8888888888888888,
             "#fdca26"
            ],
            [
             1,
             "#f0f921"
            ]
           ]
          },
          "colorway": [
           "#636efa",
           "#EF553B",
           "#00cc96",
           "#ab63fa",
           "#FFA15A",
           "#19d3f3",
           "#FF6692",
           "#B6E880",
           "#FF97FF",
           "#FECB52"
          ],
          "font": {
           "color": "#2a3f5f"
          },
          "geo": {
           "bgcolor": "white",
           "lakecolor": "white",
           "landcolor": "#E5ECF6",
           "showlakes": true,
           "showland": true,
           "subunitcolor": "white"
          },
          "hoverlabel": {
           "align": "left"
          },
          "hovermode": "closest",
          "mapbox": {
           "style": "light"
          },
          "paper_bgcolor": "white",
          "plot_bgcolor": "#E5ECF6",
          "polar": {
           "angularaxis": {
            "gridcolor": "white",
            "linecolor": "white",
            "ticks": ""
           },
           "bgcolor": "#E5ECF6",
           "radialaxis": {
            "gridcolor": "white",
            "linecolor": "white",
            "ticks": ""
           }
          },
          "scene": {
           "xaxis": {
            "backgroundcolor": "#E5ECF6",
            "gridcolor": "white",
            "gridwidth": 2,
            "linecolor": "white",
            "showbackground": true,
            "ticks": "",
            "zerolinecolor": "white"
           },
           "yaxis": {
            "backgroundcolor": "#E5ECF6",
            "gridcolor": "white",
            "gridwidth": 2,
            "linecolor": "white",
            "showbackground": true,
            "ticks": "",
            "zerolinecolor": "white"
           },
           "zaxis": {
            "backgroundcolor": "#E5ECF6",
            "gridcolor": "white",
            "gridwidth": 2,
            "linecolor": "white",
            "showbackground": true,
            "ticks": "",
            "zerolinecolor": "white"
           }
          },
          "shapedefaults": {
           "line": {
            "color": "#2a3f5f"
           }
          },
          "ternary": {
           "aaxis": {
            "gridcolor": "white",
            "linecolor": "white",
            "ticks": ""
           },
           "baxis": {
            "gridcolor": "white",
            "linecolor": "white",
            "ticks": ""
           },
           "bgcolor": "#E5ECF6",
           "caxis": {
            "gridcolor": "white",
            "linecolor": "white",
            "ticks": ""
           }
          },
          "title": {
           "x": 0.05
          },
          "xaxis": {
           "automargin": true,
           "gridcolor": "white",
           "linecolor": "white",
           "ticks": "",
           "title": {
            "standoff": 15
           },
           "zerolinecolor": "white",
           "zerolinewidth": 2
          },
          "yaxis": {
           "automargin": true,
           "gridcolor": "white",
           "linecolor": "white",
           "ticks": "",
           "title": {
            "standoff": 15
           },
           "zerolinecolor": "white",
           "zerolinewidth": 2
          }
         }
        },
        "title": {
         "font": {
          "color": "rgb(255, 105, 180)"
         },
         "text": "Locations of Data Science Jobs Postings and their Frequency"
        },
        "width": 1000,
        "xaxis": {
         "automargin": true,
         "tickangle": -45,
         "tickfont": {
          "color": "white",
          "size": 10
         },
         "title": {
          "font": {
           "color": "rgb(255, 105, 180)"
          },
          "text": "Locations"
         }
        },
        "yaxis": {
         "tickfont": {
          "color": "white",
          "size": 10
         },
         "title": {
          "font": {
           "color": "rgb(255, 105, 180)"
          },
          "text": "Frequency"
         }
        }
       }
      },
      "text/html": [
       "<div>                            <div id=\"63a39f46-0d74-4eb1-b6ac-09585a39c344\" class=\"plotly-graph-div\" style=\"height:500px; width:1000px;\"></div>            <script type=\"text/javascript\">                require([\"plotly\"], function(Plotly) {                    window.PLOTLYENV=window.PLOTLYENV || {};                                    if (document.getElementById(\"63a39f46-0d74-4eb1-b6ac-09585a39c344\")) {                    Plotly.newPlot(                        \"63a39f46-0d74-4eb1-b6ac-09585a39c344\",                        [{\"marker\":{\"color\":\"rgb(255, 105, 180)\",\"line\":{\"width\":0.5}},\"x\":[\"Mumbai\",\"Hyderabad/Secunderabad\",\"Chennai\",\"Bangalore/Bengaluru\",\"Kolkata\",\"New Delhi\",\"Pune\",\"Ahmedabad\",\"Delhi / NCR\",\"Maharashtra\",\"Remote\",\"Gurgaon/ Gurugram\",\"Haryana\",\"Hybrid - Noida\",\"Uttar Pradesh\",\"Gurgaon/Gurugram\",\"Hybrid - Chennai\",\"Noida\",\"Hybrid - Hyderabad/Secunderabad\",\"Hybrid - Hyderabad/Secunderabad(Kondapur)\",\"Delhi\",\"Hybrid - Bangalore/Bengaluru\",\"Mumbai (All Areas)\",\"Temp. WFH - Pune\",\"Warangal\",\"Tiruchirapalli/Trichy\",\"Madurai\",\"Kochi/Cochin\",\"Ernakulam\",\"Kerala\",\"Coimbatore\",\"Betul\",\"Nagpur\",\"Nizamabad\",\"Noida(Sector-2 Noida)\",\"Hyderabad/ Secunderabad\",\"Telangana\",\"Bangalore/ Bengaluru\",\"Karnataka\",\"Thrissur/Trichur\",\"Calicut/Kozhikode\",\"Trivandrum/Thiruvananthapuram\",\"Chandigarh\",\"Kalyani\",\"Salem\",\"Aurangabad\",\"Visakhapatnam\",\"Bangalore/Bengaluru(Bannerghatta Road)\",\"Hybrid - Bangalore/ Bengaluru\",\"Gandhinagar\",\"Gujarat\",\"Hybrid - Kolkata\",\"Tamil Nadu\",\"Temp. WFH - Kolkata\",\"Andheri East\",\"Dehradun\",\"Uttarakhand\",\"Gurgaon\",\"Hybrid - Pune\",\"Jaipur\",\"Hybrid - Gurgaon/ Gurugram\"],\"y\":[66,90,73,127,33,20,67,11,30,2,15,6,7,3,8,16,3,16,5,2,4,2,6,1,2,1,1,5,2,1,12,1,4,1,1,2,2,7,8,1,1,3,1,1,1,1,2,1,1,1,1,1,5,3,1,1,1,1,1,1,1],\"type\":\"bar\"}],                        {\"template\":{\"data\":{\"histogram2dcontour\":[{\"type\":\"histogram2dcontour\",\"colorbar\":{\"outlinewidth\":0,\"ticks\":\"\"},\"colorscale\":[[0.0,\"#0d0887\"],[0.1111111111111111,\"#46039f\"],[0.2222222222222222,\"#7201a8\"],[0.3333333333333333,\"#9c179e\"],[0.4444444444444444,\"#bd3786\"],[0.5555555555555556,\"#d8576b\"],[0.6666666666666666,\"#ed7953\"],[0.7777777777777778,\"#fb9f3a\"],[0.8888888888888888,\"#fdca26\"],[1.0,\"#f0f921\"]]}],\"choropleth\":[{\"type\":\"choropleth\",\"colorbar\":{\"outlinewidth\":0,\"ticks\":\"\"}}],\"histogram2d\":[{\"type\":\"histogram2d\",\"colorbar\":{\"outlinewidth\":0,\"ticks\":\"\"},\"colorscale\":[[0.0,\"#0d0887\"],[0.1111111111111111,\"#46039f\"],[0.2222222222222222,\"#7201a8\"],[0.3333333333333333,\"#9c179e\"],[0.4444444444444444,\"#bd3786\"],[0.5555555555555556,\"#d8576b\"],[0.6666666666666666,\"#ed7953\"],[0.7777777777777778,\"#fb9f3a\"],[0.8888888888888888,\"#fdca26\"],[1.0,\"#f0f921\"]]}],\"heatmap\":[{\"type\":\"heatmap\",\"colorbar\":{\"outlinewidth\":0,\"ticks\":\"\"},\"colorscale\":[[0.0,\"#0d0887\"],[0.1111111111111111,\"#46039f\"],[0.2222222222222222,\"#7201a8\"],[0.3333333333333333,\"#9c179e\"],[0.4444444444444444,\"#bd3786\"],[0.5555555555555556,\"#d8576b\"],[0.6666666666666666,\"#ed7953\"],[0.7777777777777778,\"#fb9f3a\"],[0.8888888888888888,\"#fdca26\"],[1.0,\"#f0f921\"]]}],\"heatmapgl\":[{\"type\":\"heatmapgl\",\"colorbar\":{\"outlinewidth\":0,\"ticks\":\"\"},\"colorscale\":[[0.0,\"#0d0887\"],[0.1111111111111111,\"#46039f\"],[0.2222222222222222,\"#7201a8\"],[0.3333333333333333,\"#9c179e\"],[0.4444444444444444,\"#bd3786\"],[0.5555555555555556,\"#d8576b\"],[0.6666666666666666,\"#ed7953\"],[0.7777777777777778,\"#fb9f3a\"],[0.8888888888888888,\"#fdca26\"],[1.0,\"#f0f921\"]]}],\"contourcarpet\":[{\"type\":\"contourcarpet\",\"colorbar\":{\"outlinewidth\":0,\"ticks\":\"\"}}],\"contour\":[{\"type\":\"contour\",\"colorbar\":{\"outlinewidth\":0,\"ticks\":\"\"},\"colorscale\":[[0.0,\"#0d0887\"],[0.1111111111111111,\"#46039f\"],[0.2222222222222222,\"#7201a8\"],[0.3333333333333333,\"#9c179e\"],[0.4444444444444444,\"#bd3786\"],[0.5555555555555556,\"#d8576b\"],[0.6666666666666666,\"#ed7953\"],[0.7777777777777778,\"#fb9f3a\"],[0.8888888888888888,\"#fdca26\"],[1.0,\"#f0f921\"]]}],\"surface\":[{\"type\":\"surface\",\"colorbar\":{\"outlinewidth\":0,\"ticks\":\"\"},\"colorscale\":[[0.0,\"#0d0887\"],[0.1111111111111111,\"#46039f\"],[0.2222222222222222,\"#7201a8\"],[0.3333333333333333,\"#9c179e\"],[0.4444444444444444,\"#bd3786\"],[0.5555555555555556,\"#d8576b\"],[0.6666666666666666,\"#ed7953\"],[0.7777777777777778,\"#fb9f3a\"],[0.8888888888888888,\"#fdca26\"],[1.0,\"#f0f921\"]]}],\"mesh3d\":[{\"type\":\"mesh3d\",\"colorbar\":{\"outlinewidth\":0,\"ticks\":\"\"}}],\"scatter\":[{\"fillpattern\":{\"fillmode\":\"overlay\",\"size\":10,\"solidity\":0.2},\"type\":\"scatter\"}],\"parcoords\":[{\"type\":\"parcoords\",\"line\":{\"colorbar\":{\"outlinewidth\":0,\"ticks\":\"\"}}}],\"scatterpolargl\":[{\"type\":\"scatterpolargl\",\"marker\":{\"colorbar\":{\"outlinewidth\":0,\"ticks\":\"\"}}}],\"bar\":[{\"error_x\":{\"color\":\"#2a3f5f\"},\"error_y\":{\"color\":\"#2a3f5f\"},\"marker\":{\"line\":{\"color\":\"#E5ECF6\",\"width\":0.5},\"pattern\":{\"fillmode\":\"overlay\",\"size\":10,\"solidity\":0.2}},\"type\":\"bar\"}],\"scattergeo\":[{\"type\":\"scattergeo\",\"marker\":{\"colorbar\":{\"outlinewidth\":0,\"ticks\":\"\"}}}],\"scatterpolar\":[{\"type\":\"scatterpolar\",\"marker\":{\"colorbar\":{\"outlinewidth\":0,\"ticks\":\"\"}}}],\"histogram\":[{\"marker\":{\"pattern\":{\"fillmode\":\"overlay\",\"size\":10,\"solidity\":0.2}},\"type\":\"histogram\"}],\"scattergl\":[{\"type\":\"scattergl\",\"marker\":{\"colorbar\":{\"outlinewidth\":0,\"ticks\":\"\"}}}],\"scatter3d\":[{\"type\":\"scatter3d\",\"line\":{\"colorbar\":{\"outlinewidth\":0,\"ticks\":\"\"}},\"marker\":{\"colorbar\":{\"outlinewidth\":0,\"ticks\":\"\"}}}],\"scattermapbox\":[{\"type\":\"scattermapbox\",\"marker\":{\"colorbar\":{\"outlinewidth\":0,\"ticks\":\"\"}}}],\"scatterternary\":[{\"type\":\"scatterternary\",\"marker\":{\"colorbar\":{\"outlinewidth\":0,\"ticks\":\"\"}}}],\"scattercarpet\":[{\"type\":\"scattercarpet\",\"marker\":{\"colorbar\":{\"outlinewidth\":0,\"ticks\":\"\"}}}],\"carpet\":[{\"aaxis\":{\"endlinecolor\":\"#2a3f5f\",\"gridcolor\":\"white\",\"linecolor\":\"white\",\"minorgridcolor\":\"white\",\"startlinecolor\":\"#2a3f5f\"},\"baxis\":{\"endlinecolor\":\"#2a3f5f\",\"gridcolor\":\"white\",\"linecolor\":\"white\",\"minorgridcolor\":\"white\",\"startlinecolor\":\"#2a3f5f\"},\"type\":\"carpet\"}],\"table\":[{\"cells\":{\"fill\":{\"color\":\"#EBF0F8\"},\"line\":{\"color\":\"white\"}},\"header\":{\"fill\":{\"color\":\"#C8D4E3\"},\"line\":{\"color\":\"white\"}},\"type\":\"table\"}],\"barpolar\":[{\"marker\":{\"line\":{\"color\":\"#E5ECF6\",\"width\":0.5},\"pattern\":{\"fillmode\":\"overlay\",\"size\":10,\"solidity\":0.2}},\"type\":\"barpolar\"}],\"pie\":[{\"automargin\":true,\"type\":\"pie\"}]},\"layout\":{\"autotypenumbers\":\"strict\",\"colorway\":[\"#636efa\",\"#EF553B\",\"#00cc96\",\"#ab63fa\",\"#FFA15A\",\"#19d3f3\",\"#FF6692\",\"#B6E880\",\"#FF97FF\",\"#FECB52\"],\"font\":{\"color\":\"#2a3f5f\"},\"hovermode\":\"closest\",\"hoverlabel\":{\"align\":\"left\"},\"paper_bgcolor\":\"white\",\"plot_bgcolor\":\"#E5ECF6\",\"polar\":{\"bgcolor\":\"#E5ECF6\",\"angularaxis\":{\"gridcolor\":\"white\",\"linecolor\":\"white\",\"ticks\":\"\"},\"radialaxis\":{\"gridcolor\":\"white\",\"linecolor\":\"white\",\"ticks\":\"\"}},\"ternary\":{\"bgcolor\":\"#E5ECF6\",\"aaxis\":{\"gridcolor\":\"white\",\"linecolor\":\"white\",\"ticks\":\"\"},\"baxis\":{\"gridcolor\":\"white\",\"linecolor\":\"white\",\"ticks\":\"\"},\"caxis\":{\"gridcolor\":\"white\",\"linecolor\":\"white\",\"ticks\":\"\"}},\"coloraxis\":{\"colorbar\":{\"outlinewidth\":0,\"ticks\":\"\"}},\"colorscale\":{\"sequential\":[[0.0,\"#0d0887\"],[0.1111111111111111,\"#46039f\"],[0.2222222222222222,\"#7201a8\"],[0.3333333333333333,\"#9c179e\"],[0.4444444444444444,\"#bd3786\"],[0.5555555555555556,\"#d8576b\"],[0.6666666666666666,\"#ed7953\"],[0.7777777777777778,\"#fb9f3a\"],[0.8888888888888888,\"#fdca26\"],[1.0,\"#f0f921\"]],\"sequentialminus\":[[0.0,\"#0d0887\"],[0.1111111111111111,\"#46039f\"],[0.2222222222222222,\"#7201a8\"],[0.3333333333333333,\"#9c179e\"],[0.4444444444444444,\"#bd3786\"],[0.5555555555555556,\"#d8576b\"],[0.6666666666666666,\"#ed7953\"],[0.7777777777777778,\"#fb9f3a\"],[0.8888888888888888,\"#fdca26\"],[1.0,\"#f0f921\"]],\"diverging\":[[0,\"#8e0152\"],[0.1,\"#c51b7d\"],[0.2,\"#de77ae\"],[0.3,\"#f1b6da\"],[0.4,\"#fde0ef\"],[0.5,\"#f7f7f7\"],[0.6,\"#e6f5d0\"],[0.7,\"#b8e186\"],[0.8,\"#7fbc41\"],[0.9,\"#4d9221\"],[1,\"#276419\"]]},\"xaxis\":{\"gridcolor\":\"white\",\"linecolor\":\"white\",\"ticks\":\"\",\"title\":{\"standoff\":15},\"zerolinecolor\":\"white\",\"automargin\":true,\"zerolinewidth\":2},\"yaxis\":{\"gridcolor\":\"white\",\"linecolor\":\"white\",\"ticks\":\"\",\"title\":{\"standoff\":15},\"zerolinecolor\":\"white\",\"automargin\":true,\"zerolinewidth\":2},\"scene\":{\"xaxis\":{\"backgroundcolor\":\"#E5ECF6\",\"gridcolor\":\"white\",\"linecolor\":\"white\",\"showbackground\":true,\"ticks\":\"\",\"zerolinecolor\":\"white\",\"gridwidth\":2},\"yaxis\":{\"backgroundcolor\":\"#E5ECF6\",\"gridcolor\":\"white\",\"linecolor\":\"white\",\"showbackground\":true,\"ticks\":\"\",\"zerolinecolor\":\"white\",\"gridwidth\":2},\"zaxis\":{\"backgroundcolor\":\"#E5ECF6\",\"gridcolor\":\"white\",\"linecolor\":\"white\",\"showbackground\":true,\"ticks\":\"\",\"zerolinecolor\":\"white\",\"gridwidth\":2}},\"shapedefaults\":{\"line\":{\"color\":\"#2a3f5f\"}},\"annotationdefaults\":{\"arrowcolor\":\"#2a3f5f\",\"arrowhead\":0,\"arrowwidth\":1},\"geo\":{\"bgcolor\":\"white\",\"landcolor\":\"#E5ECF6\",\"subunitcolor\":\"white\",\"showland\":true,\"showlakes\":true,\"lakecolor\":\"white\"},\"title\":{\"x\":0.05},\"mapbox\":{\"style\":\"light\"}}},\"xaxis\":{\"title\":{\"text\":\"Locations\",\"font\":{\"color\":\"rgb(255, 105, 180)\"}},\"tickfont\":{\"size\":10,\"color\":\"white\"},\"tickangle\":-45,\"automargin\":true},\"yaxis\":{\"tickfont\":{\"size\":10,\"color\":\"white\"},\"title\":{\"text\":\"Frequency\",\"font\":{\"color\":\"rgb(255, 105, 180)\"}}},\"title\":{\"text\":\"Locations of Data Science Jobs Postings and their Frequency\",\"font\":{\"color\":\"rgb(255, 105, 180)\"}},\"height\":500,\"width\":1000,\"plot_bgcolor\":\"rgb(70, 70, 100)\",\"paper_bgcolor\":\"rgb(70, 70, 100)\"},                        {\"responsive\": true}                    ).then(function(){\n",
       "                            \n",
       "var gd = document.getElementById('63a39f46-0d74-4eb1-b6ac-09585a39c344');\n",
       "var x = new MutationObserver(function (mutations, observer) {{\n",
       "        var display = window.getComputedStyle(gd).display;\n",
       "        if (!display || display === 'none') {{\n",
       "            console.log([gd, 'removed!']);\n",
       "            Plotly.purge(gd);\n",
       "            observer.disconnect();\n",
       "        }}\n",
       "}});\n",
       "\n",
       "// Listen for the removal of the full notebook cells\n",
       "var notebookContainer = gd.closest('#notebook-container');\n",
       "if (notebookContainer) {{\n",
       "    x.observe(notebookContainer, {childList: true});\n",
       "}}\n",
       "\n",
       "// Listen for the clearing of the current output cell\n",
       "var outputEl = gd.closest('.output');\n",
       "if (outputEl) {{\n",
       "    x.observe(outputEl, {childList: true});\n",
       "}}\n",
       "\n",
       "                        })                };                });            </script>        </div>"
      ]
     },
     "metadata": {},
     "output_type": "display_data"
    }
   ],
   "source": [
    "location_list = np.array([i.strip() for i in ','.join(job_portal['Location'].tolist()).split(',')])\n",
    "locat_freq = dict()\n",
    "for i in location_list:\n",
    "    locat_freq[i] = locat_freq.get(i, 0) + 1\n",
    "\n",
    "locations = [item[0] for item in locat_freq.items()]\n",
    "frequencies = [item[1] for item in locat_freq.items()]\n",
    "\n",
    "background_color = 'rgb(70, 70, 100)'\n",
    "fig = go.Figure(data=[go.Bar(x=locations, y=frequencies, marker=dict(color='rgb(255, 105, 180)'))])\n",
    "\n",
    "fig.update_layout(\n",
    "    title=\"Locations of {} Postings and their Frequency\".format(job_type.title()),\n",
    "    xaxis=dict(\n",
    "        title=\"Locations\",\n",
    "        title_font=dict(color='rgb(255, 105, 180)'),\n",
    "        tickangle=-45,\n",
    "        automargin=True,\n",
    "        tickfont=dict(size=10, color='white'),  # Change tick labels color to white\n",
    "    ),\n",
    "    yaxis=dict(title=\"Frequency\", tickfont=dict(size=10, color='white'), title_font=dict(color='rgb(255, 105, 180)')),\n",
    "    height=500,\n",
    "    width=1000,\n",
    "    plot_bgcolor=background_color,\n",
    "    paper_bgcolor=background_color,\n",
    "    title_font=dict(color='rgb(255, 105, 180)')\n",
    ")\n",
    "\n",
    "# Adjust the bar width to reduce the gap between bars\n",
    "fig.update_traces(marker=dict(line=dict(width=0.5)), selector=dict(type='bar'))\n",
    "\n",
    "fig.show()"
   ]
  },
  {
   "cell_type": "code",
   "execution_count": 56,
   "id": "1b6cf095",
   "metadata": {},
   "outputs": [],
   "source": [
    "job_portal['Persons_Can_Apply'] = job_portal.apply(lambda x: 'Fresher' if (x['Experience'][0] == 0 and x['Experience'][1] <= 2) else ('Intermediate' if (x['Experience'][0] > 2 and x['Experience'][1] <= 5) else ('Senior' if (x['Experience'][0] > 5) else ('Fresher Intermediate Senior' if (x['Experience'][0] == 0 and x['Experience'][1] > 5) else('Fresher Intermediate' if(x['Experience'][0] == 0 and x['Experience'][1] <= 5) else ('Intermediate Senior' if (x['Experience'][0] > 2 and x['Experience'][1] > 5) else 'Senior'))))), axis=1)\n"
   ]
  },
  {
   "cell_type": "code",
   "execution_count": 57,
   "id": "00f75c70",
   "metadata": {},
   "outputs": [
    {
     "data": {
      "text/plain": [
       "Persons_Can_Apply   \n",
       "Senior                  165\n",
       "Intermediate Senior      91\n",
       "Intermediate             23\n",
       "Fresher                  14\n",
       "Fresher Intermediate      7\n",
       "Name: count, dtype: int64"
      ]
     },
     "execution_count": 57,
     "metadata": {},
     "output_type": "execute_result"
    }
   ],
   "source": [
    "job_portal[['Persons_Can_Apply']].value_counts()"
   ]
  },
  {
   "cell_type": "code",
   "execution_count": 58,
   "id": "17eaf098",
   "metadata": {},
   "outputs": [
    {
     "data": {
      "text/plain": [
       "[165, 91, 23, 14, 7]"
      ]
     },
     "execution_count": 58,
     "metadata": {},
     "output_type": "execute_result"
    }
   ],
   "source": [
    "emp_can_apply=list(job_portal[['Persons_Can_Apply']].value_counts().items())\n",
    "levels=[item[0][0] for item in emp_can_apply]\n",
    "levels_freq=[item[1] for item in emp_can_apply]\n",
    "levels_freq"
   ]
  },
  {
   "cell_type": "code",
   "execution_count": 59,
   "id": "33c72025",
   "metadata": {},
   "outputs": [
    {
     "data": {
      "application/vnd.plotly.v1+json": {
       "config": {
        "plotlyServerURL": "https://plot.ly"
       },
       "data": [
        {
         "marker": {
          "color": "rgb(255, 105, 100)"
         },
         "type": "bar",
         "x": [
          "Senior",
          "Intermediate Senior",
          "Intermediate",
          "Fresher",
          "Fresher Intermediate"
         ],
         "y": [
          165,
          91,
          23,
          14,
          7
         ]
        }
       ],
       "layout": {
        "height": 600,
        "paper_bgcolor": "rgb(70, 70, 100)",
        "plot_bgcolor": "rgb(70, 70, 100)",
        "template": {
         "data": {
          "bar": [
           {
            "error_x": {
             "color": "#2a3f5f"
            },
            "error_y": {
             "color": "#2a3f5f"
            },
            "marker": {
             "line": {
              "color": "#E5ECF6",
              "width": 0.5
             },
             "pattern": {
              "fillmode": "overlay",
              "size": 10,
              "solidity": 0.2
             }
            },
            "type": "bar"
           }
          ],
          "barpolar": [
           {
            "marker": {
             "line": {
              "color": "#E5ECF6",
              "width": 0.5
             },
             "pattern": {
              "fillmode": "overlay",
              "size": 10,
              "solidity": 0.2
             }
            },
            "type": "barpolar"
           }
          ],
          "carpet": [
           {
            "aaxis": {
             "endlinecolor": "#2a3f5f",
             "gridcolor": "white",
             "linecolor": "white",
             "minorgridcolor": "white",
             "startlinecolor": "#2a3f5f"
            },
            "baxis": {
             "endlinecolor": "#2a3f5f",
             "gridcolor": "white",
             "linecolor": "white",
             "minorgridcolor": "white",
             "startlinecolor": "#2a3f5f"
            },
            "type": "carpet"
           }
          ],
          "choropleth": [
           {
            "colorbar": {
             "outlinewidth": 0,
             "ticks": ""
            },
            "type": "choropleth"
           }
          ],
          "contour": [
           {
            "colorbar": {
             "outlinewidth": 0,
             "ticks": ""
            },
            "colorscale": [
             [
              0,
              "#0d0887"
             ],
             [
              0.1111111111111111,
              "#46039f"
             ],
             [
              0.2222222222222222,
              "#7201a8"
             ],
             [
              0.3333333333333333,
              "#9c179e"
             ],
             [
              0.4444444444444444,
              "#bd3786"
             ],
             [
              0.5555555555555556,
              "#d8576b"
             ],
             [
              0.6666666666666666,
              "#ed7953"
             ],
             [
              0.7777777777777778,
              "#fb9f3a"
             ],
             [
              0.8888888888888888,
              "#fdca26"
             ],
             [
              1,
              "#f0f921"
             ]
            ],
            "type": "contour"
           }
          ],
          "contourcarpet": [
           {
            "colorbar": {
             "outlinewidth": 0,
             "ticks": ""
            },
            "type": "contourcarpet"
           }
          ],
          "heatmap": [
           {
            "colorbar": {
             "outlinewidth": 0,
             "ticks": ""
            },
            "colorscale": [
             [
              0,
              "#0d0887"
             ],
             [
              0.1111111111111111,
              "#46039f"
             ],
             [
              0.2222222222222222,
              "#7201a8"
             ],
             [
              0.3333333333333333,
              "#9c179e"
             ],
             [
              0.4444444444444444,
              "#bd3786"
             ],
             [
              0.5555555555555556,
              "#d8576b"
             ],
             [
              0.6666666666666666,
              "#ed7953"
             ],
             [
              0.7777777777777778,
              "#fb9f3a"
             ],
             [
              0.8888888888888888,
              "#fdca26"
             ],
             [
              1,
              "#f0f921"
             ]
            ],
            "type": "heatmap"
           }
          ],
          "heatmapgl": [
           {
            "colorbar": {
             "outlinewidth": 0,
             "ticks": ""
            },
            "colorscale": [
             [
              0,
              "#0d0887"
             ],
             [
              0.1111111111111111,
              "#46039f"
             ],
             [
              0.2222222222222222,
              "#7201a8"
             ],
             [
              0.3333333333333333,
              "#9c179e"
             ],
             [
              0.4444444444444444,
              "#bd3786"
             ],
             [
              0.5555555555555556,
              "#d8576b"
             ],
             [
              0.6666666666666666,
              "#ed7953"
             ],
             [
              0.7777777777777778,
              "#fb9f3a"
             ],
             [
              0.8888888888888888,
              "#fdca26"
             ],
             [
              1,
              "#f0f921"
             ]
            ],
            "type": "heatmapgl"
           }
          ],
          "histogram": [
           {
            "marker": {
             "pattern": {
              "fillmode": "overlay",
              "size": 10,
              "solidity": 0.2
             }
            },
            "type": "histogram"
           }
          ],
          "histogram2d": [
           {
            "colorbar": {
             "outlinewidth": 0,
             "ticks": ""
            },
            "colorscale": [
             [
              0,
              "#0d0887"
             ],
             [
              0.1111111111111111,
              "#46039f"
             ],
             [
              0.2222222222222222,
              "#7201a8"
             ],
             [
              0.3333333333333333,
              "#9c179e"
             ],
             [
              0.4444444444444444,
              "#bd3786"
             ],
             [
              0.5555555555555556,
              "#d8576b"
             ],
             [
              0.6666666666666666,
              "#ed7953"
             ],
             [
              0.7777777777777778,
              "#fb9f3a"
             ],
             [
              0.8888888888888888,
              "#fdca26"
             ],
             [
              1,
              "#f0f921"
             ]
            ],
            "type": "histogram2d"
           }
          ],
          "histogram2dcontour": [
           {
            "colorbar": {
             "outlinewidth": 0,
             "ticks": ""
            },
            "colorscale": [
             [
              0,
              "#0d0887"
             ],
             [
              0.1111111111111111,
              "#46039f"
             ],
             [
              0.2222222222222222,
              "#7201a8"
             ],
             [
              0.3333333333333333,
              "#9c179e"
             ],
             [
              0.4444444444444444,
              "#bd3786"
             ],
             [
              0.5555555555555556,
              "#d8576b"
             ],
             [
              0.6666666666666666,
              "#ed7953"
             ],
             [
              0.7777777777777778,
              "#fb9f3a"
             ],
             [
              0.8888888888888888,
              "#fdca26"
             ],
             [
              1,
              "#f0f921"
             ]
            ],
            "type": "histogram2dcontour"
           }
          ],
          "mesh3d": [
           {
            "colorbar": {
             "outlinewidth": 0,
             "ticks": ""
            },
            "type": "mesh3d"
           }
          ],
          "parcoords": [
           {
            "line": {
             "colorbar": {
              "outlinewidth": 0,
              "ticks": ""
             }
            },
            "type": "parcoords"
           }
          ],
          "pie": [
           {
            "automargin": true,
            "type": "pie"
           }
          ],
          "scatter": [
           {
            "fillpattern": {
             "fillmode": "overlay",
             "size": 10,
             "solidity": 0.2
            },
            "type": "scatter"
           }
          ],
          "scatter3d": [
           {
            "line": {
             "colorbar": {
              "outlinewidth": 0,
              "ticks": ""
             }
            },
            "marker": {
             "colorbar": {
              "outlinewidth": 0,
              "ticks": ""
             }
            },
            "type": "scatter3d"
           }
          ],
          "scattercarpet": [
           {
            "marker": {
             "colorbar": {
              "outlinewidth": 0,
              "ticks": ""
             }
            },
            "type": "scattercarpet"
           }
          ],
          "scattergeo": [
           {
            "marker": {
             "colorbar": {
              "outlinewidth": 0,
              "ticks": ""
             }
            },
            "type": "scattergeo"
           }
          ],
          "scattergl": [
           {
            "marker": {
             "colorbar": {
              "outlinewidth": 0,
              "ticks": ""
             }
            },
            "type": "scattergl"
           }
          ],
          "scattermapbox": [
           {
            "marker": {
             "colorbar": {
              "outlinewidth": 0,
              "ticks": ""
             }
            },
            "type": "scattermapbox"
           }
          ],
          "scatterpolar": [
           {
            "marker": {
             "colorbar": {
              "outlinewidth": 0,
              "ticks": ""
             }
            },
            "type": "scatterpolar"
           }
          ],
          "scatterpolargl": [
           {
            "marker": {
             "colorbar": {
              "outlinewidth": 0,
              "ticks": ""
             }
            },
            "type": "scatterpolargl"
           }
          ],
          "scatterternary": [
           {
            "marker": {
             "colorbar": {
              "outlinewidth": 0,
              "ticks": ""
             }
            },
            "type": "scatterternary"
           }
          ],
          "surface": [
           {
            "colorbar": {
             "outlinewidth": 0,
             "ticks": ""
            },
            "colorscale": [
             [
              0,
              "#0d0887"
             ],
             [
              0.1111111111111111,
              "#46039f"
             ],
             [
              0.2222222222222222,
              "#7201a8"
             ],
             [
              0.3333333333333333,
              "#9c179e"
             ],
             [
              0.4444444444444444,
              "#bd3786"
             ],
             [
              0.5555555555555556,
              "#d8576b"
             ],
             [
              0.6666666666666666,
              "#ed7953"
             ],
             [
              0.7777777777777778,
              "#fb9f3a"
             ],
             [
              0.8888888888888888,
              "#fdca26"
             ],
             [
              1,
              "#f0f921"
             ]
            ],
            "type": "surface"
           }
          ],
          "table": [
           {
            "cells": {
             "fill": {
              "color": "#EBF0F8"
             },
             "line": {
              "color": "white"
             }
            },
            "header": {
             "fill": {
              "color": "#C8D4E3"
             },
             "line": {
              "color": "white"
             }
            },
            "type": "table"
           }
          ]
         },
         "layout": {
          "annotationdefaults": {
           "arrowcolor": "#2a3f5f",
           "arrowhead": 0,
           "arrowwidth": 1
          },
          "autotypenumbers": "strict",
          "coloraxis": {
           "colorbar": {
            "outlinewidth": 0,
            "ticks": ""
           }
          },
          "colorscale": {
           "diverging": [
            [
             0,
             "#8e0152"
            ],
            [
             0.1,
             "#c51b7d"
            ],
            [
             0.2,
             "#de77ae"
            ],
            [
             0.3,
             "#f1b6da"
            ],
            [
             0.4,
             "#fde0ef"
            ],
            [
             0.5,
             "#f7f7f7"
            ],
            [
             0.6,
             "#e6f5d0"
            ],
            [
             0.7,
             "#b8e186"
            ],
            [
             0.8,
             "#7fbc41"
            ],
            [
             0.9,
             "#4d9221"
            ],
            [
             1,
             "#276419"
            ]
           ],
           "sequential": [
            [
             0,
             "#0d0887"
            ],
            [
             0.1111111111111111,
             "#46039f"
            ],
            [
             0.2222222222222222,
             "#7201a8"
            ],
            [
             0.3333333333333333,
             "#9c179e"
            ],
            [
             0.4444444444444444,
             "#bd3786"
            ],
            [
             0.5555555555555556,
             "#d8576b"
            ],
            [
             0.6666666666666666,
             "#ed7953"
            ],
            [
             0.7777777777777778,
             "#fb9f3a"
            ],
            [
             0.8888888888888888,
             "#fdca26"
            ],
            [
             1,
             "#f0f921"
            ]
           ],
           "sequentialminus": [
            [
             0,
             "#0d0887"
            ],
            [
             0.1111111111111111,
             "#46039f"
            ],
            [
             0.2222222222222222,
             "#7201a8"
            ],
            [
             0.3333333333333333,
             "#9c179e"
            ],
            [
             0.4444444444444444,
             "#bd3786"
            ],
            [
             0.5555555555555556,
             "#d8576b"
            ],
            [
             0.6666666666666666,
             "#ed7953"
            ],
            [
             0.7777777777777778,
             "#fb9f3a"
            ],
            [
             0.8888888888888888,
             "#fdca26"
            ],
            [
             1,
             "#f0f921"
            ]
           ]
          },
          "colorway": [
           "#636efa",
           "#EF553B",
           "#00cc96",
           "#ab63fa",
           "#FFA15A",
           "#19d3f3",
           "#FF6692",
           "#B6E880",
           "#FF97FF",
           "#FECB52"
          ],
          "font": {
           "color": "#2a3f5f"
          },
          "geo": {
           "bgcolor": "white",
           "lakecolor": "white",
           "landcolor": "#E5ECF6",
           "showlakes": true,
           "showland": true,
           "subunitcolor": "white"
          },
          "hoverlabel": {
           "align": "left"
          },
          "hovermode": "closest",
          "mapbox": {
           "style": "light"
          },
          "paper_bgcolor": "white",
          "plot_bgcolor": "#E5ECF6",
          "polar": {
           "angularaxis": {
            "gridcolor": "white",
            "linecolor": "white",
            "ticks": ""
           },
           "bgcolor": "#E5ECF6",
           "radialaxis": {
            "gridcolor": "white",
            "linecolor": "white",
            "ticks": ""
           }
          },
          "scene": {
           "xaxis": {
            "backgroundcolor": "#E5ECF6",
            "gridcolor": "white",
            "gridwidth": 2,
            "linecolor": "white",
            "showbackground": true,
            "ticks": "",
            "zerolinecolor": "white"
           },
           "yaxis": {
            "backgroundcolor": "#E5ECF6",
            "gridcolor": "white",
            "gridwidth": 2,
            "linecolor": "white",
            "showbackground": true,
            "ticks": "",
            "zerolinecolor": "white"
           },
           "zaxis": {
            "backgroundcolor": "#E5ECF6",
            "gridcolor": "white",
            "gridwidth": 2,
            "linecolor": "white",
            "showbackground": true,
            "ticks": "",
            "zerolinecolor": "white"
           }
          },
          "shapedefaults": {
           "line": {
            "color": "#2a3f5f"
           }
          },
          "ternary": {
           "aaxis": {
            "gridcolor": "white",
            "linecolor": "white",
            "ticks": ""
           },
           "baxis": {
            "gridcolor": "white",
            "linecolor": "white",
            "ticks": ""
           },
           "bgcolor": "#E5ECF6",
           "caxis": {
            "gridcolor": "white",
            "linecolor": "white",
            "ticks": ""
           }
          },
          "title": {
           "x": 0.05
          },
          "xaxis": {
           "automargin": true,
           "gridcolor": "white",
           "linecolor": "white",
           "ticks": "",
           "title": {
            "standoff": 15
           },
           "zerolinecolor": "white",
           "zerolinewidth": 2
          },
          "yaxis": {
           "automargin": true,
           "gridcolor": "white",
           "linecolor": "white",
           "ticks": "",
           "title": {
            "standoff": 15
           },
           "zerolinecolor": "white",
           "zerolinewidth": 2
          }
         }
        },
        "title": {
         "font": {
          "color": "rgb(255, 105, 100)",
          "size": 20
         },
         "text": "Various levels of people who can apply based on Experience and their frequency of each level."
        },
        "width": 1000,
        "xaxis": {
         "automargin": true,
         "tickangle": -45,
         "tickfont": {
          "color": "white",
          "size": 14
         },
         "title": {
          "font": {
           "color": "rgb(255, 105, 100)",
           "size": 18
          },
          "text": "Locations"
         }
        },
        "yaxis": {
         "tickfont": {
          "color": "white",
          "size": 14
         },
         "title": {
          "font": {
           "color": "rgb(255, 105, 100)",
           "size": 18
          },
          "text": "Frequency"
         }
        }
       }
      },
      "text/html": [
       "<div>                            <div id=\"ac123c96-f998-4178-a0b6-e5ce75903fd5\" class=\"plotly-graph-div\" style=\"height:600px; width:1000px;\"></div>            <script type=\"text/javascript\">                require([\"plotly\"], function(Plotly) {                    window.PLOTLYENV=window.PLOTLYENV || {};                                    if (document.getElementById(\"ac123c96-f998-4178-a0b6-e5ce75903fd5\")) {                    Plotly.newPlot(                        \"ac123c96-f998-4178-a0b6-e5ce75903fd5\",                        [{\"marker\":{\"color\":\"rgb(255, 105, 100)\"},\"x\":[\"Senior\",\"Intermediate Senior\",\"Intermediate\",\"Fresher\",\"Fresher Intermediate\"],\"y\":[165,91,23,14,7],\"type\":\"bar\"}],                        {\"template\":{\"data\":{\"histogram2dcontour\":[{\"type\":\"histogram2dcontour\",\"colorbar\":{\"outlinewidth\":0,\"ticks\":\"\"},\"colorscale\":[[0.0,\"#0d0887\"],[0.1111111111111111,\"#46039f\"],[0.2222222222222222,\"#7201a8\"],[0.3333333333333333,\"#9c179e\"],[0.4444444444444444,\"#bd3786\"],[0.5555555555555556,\"#d8576b\"],[0.6666666666666666,\"#ed7953\"],[0.7777777777777778,\"#fb9f3a\"],[0.8888888888888888,\"#fdca26\"],[1.0,\"#f0f921\"]]}],\"choropleth\":[{\"type\":\"choropleth\",\"colorbar\":{\"outlinewidth\":0,\"ticks\":\"\"}}],\"histogram2d\":[{\"type\":\"histogram2d\",\"colorbar\":{\"outlinewidth\":0,\"ticks\":\"\"},\"colorscale\":[[0.0,\"#0d0887\"],[0.1111111111111111,\"#46039f\"],[0.2222222222222222,\"#7201a8\"],[0.3333333333333333,\"#9c179e\"],[0.4444444444444444,\"#bd3786\"],[0.5555555555555556,\"#d8576b\"],[0.6666666666666666,\"#ed7953\"],[0.7777777777777778,\"#fb9f3a\"],[0.8888888888888888,\"#fdca26\"],[1.0,\"#f0f921\"]]}],\"heatmap\":[{\"type\":\"heatmap\",\"colorbar\":{\"outlinewidth\":0,\"ticks\":\"\"},\"colorscale\":[[0.0,\"#0d0887\"],[0.1111111111111111,\"#46039f\"],[0.2222222222222222,\"#7201a8\"],[0.3333333333333333,\"#9c179e\"],[0.4444444444444444,\"#bd3786\"],[0.5555555555555556,\"#d8576b\"],[0.6666666666666666,\"#ed7953\"],[0.7777777777777778,\"#fb9f3a\"],[0.8888888888888888,\"#fdca26\"],[1.0,\"#f0f921\"]]}],\"heatmapgl\":[{\"type\":\"heatmapgl\",\"colorbar\":{\"outlinewidth\":0,\"ticks\":\"\"},\"colorscale\":[[0.0,\"#0d0887\"],[0.1111111111111111,\"#46039f\"],[0.2222222222222222,\"#7201a8\"],[0.3333333333333333,\"#9c179e\"],[0.4444444444444444,\"#bd3786\"],[0.5555555555555556,\"#d8576b\"],[0.6666666666666666,\"#ed7953\"],[0.7777777777777778,\"#fb9f3a\"],[0.8888888888888888,\"#fdca26\"],[1.0,\"#f0f921\"]]}],\"contourcarpet\":[{\"type\":\"contourcarpet\",\"colorbar\":{\"outlinewidth\":0,\"ticks\":\"\"}}],\"contour\":[{\"type\":\"contour\",\"colorbar\":{\"outlinewidth\":0,\"ticks\":\"\"},\"colorscale\":[[0.0,\"#0d0887\"],[0.1111111111111111,\"#46039f\"],[0.2222222222222222,\"#7201a8\"],[0.3333333333333333,\"#9c179e\"],[0.4444444444444444,\"#bd3786\"],[0.5555555555555556,\"#d8576b\"],[0.6666666666666666,\"#ed7953\"],[0.7777777777777778,\"#fb9f3a\"],[0.8888888888888888,\"#fdca26\"],[1.0,\"#f0f921\"]]}],\"surface\":[{\"type\":\"surface\",\"colorbar\":{\"outlinewidth\":0,\"ticks\":\"\"},\"colorscale\":[[0.0,\"#0d0887\"],[0.1111111111111111,\"#46039f\"],[0.2222222222222222,\"#7201a8\"],[0.3333333333333333,\"#9c179e\"],[0.4444444444444444,\"#bd3786\"],[0.5555555555555556,\"#d8576b\"],[0.6666666666666666,\"#ed7953\"],[0.7777777777777778,\"#fb9f3a\"],[0.8888888888888888,\"#fdca26\"],[1.0,\"#f0f921\"]]}],\"mesh3d\":[{\"type\":\"mesh3d\",\"colorbar\":{\"outlinewidth\":0,\"ticks\":\"\"}}],\"scatter\":[{\"fillpattern\":{\"fillmode\":\"overlay\",\"size\":10,\"solidity\":0.2},\"type\":\"scatter\"}],\"parcoords\":[{\"type\":\"parcoords\",\"line\":{\"colorbar\":{\"outlinewidth\":0,\"ticks\":\"\"}}}],\"scatterpolargl\":[{\"type\":\"scatterpolargl\",\"marker\":{\"colorbar\":{\"outlinewidth\":0,\"ticks\":\"\"}}}],\"bar\":[{\"error_x\":{\"color\":\"#2a3f5f\"},\"error_y\":{\"color\":\"#2a3f5f\"},\"marker\":{\"line\":{\"color\":\"#E5ECF6\",\"width\":0.5},\"pattern\":{\"fillmode\":\"overlay\",\"size\":10,\"solidity\":0.2}},\"type\":\"bar\"}],\"scattergeo\":[{\"type\":\"scattergeo\",\"marker\":{\"colorbar\":{\"outlinewidth\":0,\"ticks\":\"\"}}}],\"scatterpolar\":[{\"type\":\"scatterpolar\",\"marker\":{\"colorbar\":{\"outlinewidth\":0,\"ticks\":\"\"}}}],\"histogram\":[{\"marker\":{\"pattern\":{\"fillmode\":\"overlay\",\"size\":10,\"solidity\":0.2}},\"type\":\"histogram\"}],\"scattergl\":[{\"type\":\"scattergl\",\"marker\":{\"colorbar\":{\"outlinewidth\":0,\"ticks\":\"\"}}}],\"scatter3d\":[{\"type\":\"scatter3d\",\"line\":{\"colorbar\":{\"outlinewidth\":0,\"ticks\":\"\"}},\"marker\":{\"colorbar\":{\"outlinewidth\":0,\"ticks\":\"\"}}}],\"scattermapbox\":[{\"type\":\"scattermapbox\",\"marker\":{\"colorbar\":{\"outlinewidth\":0,\"ticks\":\"\"}}}],\"scatterternary\":[{\"type\":\"scatterternary\",\"marker\":{\"colorbar\":{\"outlinewidth\":0,\"ticks\":\"\"}}}],\"scattercarpet\":[{\"type\":\"scattercarpet\",\"marker\":{\"colorbar\":{\"outlinewidth\":0,\"ticks\":\"\"}}}],\"carpet\":[{\"aaxis\":{\"endlinecolor\":\"#2a3f5f\",\"gridcolor\":\"white\",\"linecolor\":\"white\",\"minorgridcolor\":\"white\",\"startlinecolor\":\"#2a3f5f\"},\"baxis\":{\"endlinecolor\":\"#2a3f5f\",\"gridcolor\":\"white\",\"linecolor\":\"white\",\"minorgridcolor\":\"white\",\"startlinecolor\":\"#2a3f5f\"},\"type\":\"carpet\"}],\"table\":[{\"cells\":{\"fill\":{\"color\":\"#EBF0F8\"},\"line\":{\"color\":\"white\"}},\"header\":{\"fill\":{\"color\":\"#C8D4E3\"},\"line\":{\"color\":\"white\"}},\"type\":\"table\"}],\"barpolar\":[{\"marker\":{\"line\":{\"color\":\"#E5ECF6\",\"width\":0.5},\"pattern\":{\"fillmode\":\"overlay\",\"size\":10,\"solidity\":0.2}},\"type\":\"barpolar\"}],\"pie\":[{\"automargin\":true,\"type\":\"pie\"}]},\"layout\":{\"autotypenumbers\":\"strict\",\"colorway\":[\"#636efa\",\"#EF553B\",\"#00cc96\",\"#ab63fa\",\"#FFA15A\",\"#19d3f3\",\"#FF6692\",\"#B6E880\",\"#FF97FF\",\"#FECB52\"],\"font\":{\"color\":\"#2a3f5f\"},\"hovermode\":\"closest\",\"hoverlabel\":{\"align\":\"left\"},\"paper_bgcolor\":\"white\",\"plot_bgcolor\":\"#E5ECF6\",\"polar\":{\"bgcolor\":\"#E5ECF6\",\"angularaxis\":{\"gridcolor\":\"white\",\"linecolor\":\"white\",\"ticks\":\"\"},\"radialaxis\":{\"gridcolor\":\"white\",\"linecolor\":\"white\",\"ticks\":\"\"}},\"ternary\":{\"bgcolor\":\"#E5ECF6\",\"aaxis\":{\"gridcolor\":\"white\",\"linecolor\":\"white\",\"ticks\":\"\"},\"baxis\":{\"gridcolor\":\"white\",\"linecolor\":\"white\",\"ticks\":\"\"},\"caxis\":{\"gridcolor\":\"white\",\"linecolor\":\"white\",\"ticks\":\"\"}},\"coloraxis\":{\"colorbar\":{\"outlinewidth\":0,\"ticks\":\"\"}},\"colorscale\":{\"sequential\":[[0.0,\"#0d0887\"],[0.1111111111111111,\"#46039f\"],[0.2222222222222222,\"#7201a8\"],[0.3333333333333333,\"#9c179e\"],[0.4444444444444444,\"#bd3786\"],[0.5555555555555556,\"#d8576b\"],[0.6666666666666666,\"#ed7953\"],[0.7777777777777778,\"#fb9f3a\"],[0.8888888888888888,\"#fdca26\"],[1.0,\"#f0f921\"]],\"sequentialminus\":[[0.0,\"#0d0887\"],[0.1111111111111111,\"#46039f\"],[0.2222222222222222,\"#7201a8\"],[0.3333333333333333,\"#9c179e\"],[0.4444444444444444,\"#bd3786\"],[0.5555555555555556,\"#d8576b\"],[0.6666666666666666,\"#ed7953\"],[0.7777777777777778,\"#fb9f3a\"],[0.8888888888888888,\"#fdca26\"],[1.0,\"#f0f921\"]],\"diverging\":[[0,\"#8e0152\"],[0.1,\"#c51b7d\"],[0.2,\"#de77ae\"],[0.3,\"#f1b6da\"],[0.4,\"#fde0ef\"],[0.5,\"#f7f7f7\"],[0.6,\"#e6f5d0\"],[0.7,\"#b8e186\"],[0.8,\"#7fbc41\"],[0.9,\"#4d9221\"],[1,\"#276419\"]]},\"xaxis\":{\"gridcolor\":\"white\",\"linecolor\":\"white\",\"ticks\":\"\",\"title\":{\"standoff\":15},\"zerolinecolor\":\"white\",\"automargin\":true,\"zerolinewidth\":2},\"yaxis\":{\"gridcolor\":\"white\",\"linecolor\":\"white\",\"ticks\":\"\",\"title\":{\"standoff\":15},\"zerolinecolor\":\"white\",\"automargin\":true,\"zerolinewidth\":2},\"scene\":{\"xaxis\":{\"backgroundcolor\":\"#E5ECF6\",\"gridcolor\":\"white\",\"linecolor\":\"white\",\"showbackground\":true,\"ticks\":\"\",\"zerolinecolor\":\"white\",\"gridwidth\":2},\"yaxis\":{\"backgroundcolor\":\"#E5ECF6\",\"gridcolor\":\"white\",\"linecolor\":\"white\",\"showbackground\":true,\"ticks\":\"\",\"zerolinecolor\":\"white\",\"gridwidth\":2},\"zaxis\":{\"backgroundcolor\":\"#E5ECF6\",\"gridcolor\":\"white\",\"linecolor\":\"white\",\"showbackground\":true,\"ticks\":\"\",\"zerolinecolor\":\"white\",\"gridwidth\":2}},\"shapedefaults\":{\"line\":{\"color\":\"#2a3f5f\"}},\"annotationdefaults\":{\"arrowcolor\":\"#2a3f5f\",\"arrowhead\":0,\"arrowwidth\":1},\"geo\":{\"bgcolor\":\"white\",\"landcolor\":\"#E5ECF6\",\"subunitcolor\":\"white\",\"showland\":true,\"showlakes\":true,\"lakecolor\":\"white\"},\"title\":{\"x\":0.05},\"mapbox\":{\"style\":\"light\"}}},\"xaxis\":{\"title\":{\"text\":\"Locations\",\"font\":{\"color\":\"rgb(255, 105, 100)\",\"size\":18}},\"tickfont\":{\"size\":14,\"color\":\"white\"},\"tickangle\":-45,\"automargin\":true},\"yaxis\":{\"tickfont\":{\"size\":14,\"color\":\"white\"},\"title\":{\"text\":\"Frequency\",\"font\":{\"color\":\"rgb(255, 105, 100)\",\"size\":18}}},\"title\":{\"text\":\"Various levels of people who can apply based on Experience and their frequency of each level.\",\"font\":{\"color\":\"rgb(255, 105, 100)\",\"size\":20}},\"height\":600,\"width\":1000,\"plot_bgcolor\":\"rgb(70, 70, 100)\",\"paper_bgcolor\":\"rgb(70, 70, 100)\"},                        {\"responsive\": true}                    ).then(function(){\n",
       "                            \n",
       "var gd = document.getElementById('ac123c96-f998-4178-a0b6-e5ce75903fd5');\n",
       "var x = new MutationObserver(function (mutations, observer) {{\n",
       "        var display = window.getComputedStyle(gd).display;\n",
       "        if (!display || display === 'none') {{\n",
       "            console.log([gd, 'removed!']);\n",
       "            Plotly.purge(gd);\n",
       "            observer.disconnect();\n",
       "        }}\n",
       "}});\n",
       "\n",
       "// Listen for the removal of the full notebook cells\n",
       "var notebookContainer = gd.closest('#notebook-container');\n",
       "if (notebookContainer) {{\n",
       "    x.observe(notebookContainer, {childList: true});\n",
       "}}\n",
       "\n",
       "// Listen for the clearing of the current output cell\n",
       "var outputEl = gd.closest('.output');\n",
       "if (outputEl) {{\n",
       "    x.observe(outputEl, {childList: true});\n",
       "}}\n",
       "\n",
       "                        })                };                });            </script>        </div>"
      ]
     },
     "metadata": {},
     "output_type": "display_data"
    }
   ],
   "source": [
    "background_color = 'rgb(70, 70, 100)'\n",
    "fig = go.Figure(data=[go.Bar(x=levels, y=levels_freq, marker=dict(color='rgb(255, 105, 100)'))])\n",
    "fig.update_layout(\n",
    "    title=\"Various levels of people who can apply based on Experience and their frequency of each level.\",\n",
    "    xaxis=dict(\n",
    "        title=\"Locations\",\n",
    "        title_font=dict(color='rgb(255, 105, 100)', size=18),  # Increase font size to 18\n",
    "        tickangle=-45,\n",
    "        automargin=True,\n",
    "        tickfont=dict(size=14, color='white'),  # Increase font size to 14 and change color to white\n",
    "    ),\n",
    "    yaxis=dict(title=\"Frequency\", tickfont=dict(size=14, color='white'), title_font=dict(color='rgb(255, 105, 100)', size=18)),  # Increase font size to 18\n",
    "    height=600,\n",
    "    width=1000,\n",
    "    plot_bgcolor=background_color,\n",
    "    paper_bgcolor=background_color,\n",
    "    title_font=dict(color='rgb(255, 105, 100)',size=20),  # Increase font size to 24\n",
    ")\n",
    "fig.show()"
   ]
  },
  {
   "cell_type": "markdown",
   "id": "283be1a9",
   "metadata": {},
   "source": [
    "<h3> To Stay Updated With Current Job Postings!!! <h3>"
   ]
  },
  {
   "cell_type": "code",
   "execution_count": 60,
   "id": "3935c742",
   "metadata": {
    "scrolled": false
   },
   "outputs": [
    {
     "data": {
      "text/html": [
       "<div>\n",
       "<style scoped>\n",
       "    .dataframe tbody tr th:only-of-type {\n",
       "        vertical-align: middle;\n",
       "    }\n",
       "\n",
       "    .dataframe tbody tr th {\n",
       "        vertical-align: top;\n",
       "    }\n",
       "\n",
       "    .dataframe thead th {\n",
       "        text-align: right;\n",
       "    }\n",
       "</style>\n",
       "<table border=\"1\" class=\"dataframe\">\n",
       "  <thead>\n",
       "    <tr style=\"text-align: right;\">\n",
       "      <th></th>\n",
       "      <th>Job_Posted_On</th>\n",
       "      <th>Job_Title</th>\n",
       "      <th>Company</th>\n",
       "      <th>Experience</th>\n",
       "      <th>Salary</th>\n",
       "      <th>Location</th>\n",
       "      <th>Ratings</th>\n",
       "      <th>Review_Counts</th>\n",
       "      <th>Job_Description</th>\n",
       "      <th>Job_Tags</th>\n",
       "      <th>Persons_Can_Apply</th>\n",
       "    </tr>\n",
       "  </thead>\n",
       "  <tbody>\n",
       "    <tr>\n",
       "      <th>2</th>\n",
       "      <td>1 Day Ago</td>\n",
       "      <td>Senior Analyst - Data Science (Regression)</td>\n",
       "      <td>Tiger Analytics</td>\n",
       "      <td>[2, 4, Yrs]</td>\n",
       "      <td>Not disclosed</td>\n",
       "      <td>Hyderabad/Secunderabad, Chennai, Bangalore/Ben...</td>\n",
       "      <td>3.5</td>\n",
       "      <td>339</td>\n",
       "      <td>A passion for writing high-quality code (Pyth...</td>\n",
       "      <td>customer analytics,Marketing analytics,data sc...</td>\n",
       "      <td>Senior</td>\n",
       "    </tr>\n",
       "    <tr>\n",
       "      <th>3</th>\n",
       "      <td>1 Day Ago</td>\n",
       "      <td>Manager-Data Science</td>\n",
       "      <td>AMERICAN EXPRESS</td>\n",
       "      <td>[2, 6, Yrs]</td>\n",
       "      <td>Not disclosed</td>\n",
       "      <td>Kolkata, Mumbai, New Delhi, Hyderabad/Secunder...</td>\n",
       "      <td>4.3</td>\n",
       "      <td>2408</td>\n",
       "      <td>. Functional: . Hands-on experience with the ...</td>\n",
       "      <td>Career development,Automation,data science,Fin...</td>\n",
       "      <td>Senior</td>\n",
       "    </tr>\n",
       "    <tr>\n",
       "      <th>12</th>\n",
       "      <td>1 Day Ago</td>\n",
       "      <td>Sr. Data Science (machine learning) Developer</td>\n",
       "      <td>AugustCode Solutions Pvt. Ltd.</td>\n",
       "      <td>[3, 5, Yrs]</td>\n",
       "      <td>5-9 Lacs PA</td>\n",
       "      <td>Remote</td>\n",
       "      <td>0.0</td>\n",
       "      <td>0</td>\n",
       "      <td>Role &amp; Responsibilities &gt; Data Analysis and P...</td>\n",
       "      <td>Data Science,Machine Learning,Deep Learning,Ar...</td>\n",
       "      <td>Intermediate</td>\n",
       "    </tr>\n",
       "    <tr>\n",
       "      <th>18</th>\n",
       "      <td>1 Day Ago</td>\n",
       "      <td>Manager - Data Science ( Retail )</td>\n",
       "      <td>Loyalytics Consulting</td>\n",
       "      <td>[5, 10, Yrs]</td>\n",
       "      <td>Not disclosed</td>\n",
       "      <td>Bangalore/Bengaluru</td>\n",
       "      <td>3.8</td>\n",
       "      <td>6</td>\n",
       "      <td>Requirements . Bachelors or Masters in a quan...</td>\n",
       "      <td>IT services,Health insurance,Data analysis,Dat...</td>\n",
       "      <td>Intermediate Senior</td>\n",
       "    </tr>\n",
       "    <tr>\n",
       "      <th>24</th>\n",
       "      <td>1 Day Ago</td>\n",
       "      <td>Data Science Engineer 1</td>\n",
       "      <td>Emerson</td>\n",
       "      <td>[2, 3, Yrs]</td>\n",
       "      <td>Not disclosed</td>\n",
       "      <td>Pune</td>\n",
       "      <td>4.1</td>\n",
       "      <td>334</td>\n",
       "      <td>Basic understanding of machine learning algor...</td>\n",
       "      <td>Web technologies,data science,Neural networks,...</td>\n",
       "      <td>Senior</td>\n",
       "    </tr>\n",
       "    <tr>\n",
       "      <th>25</th>\n",
       "      <td>1 Day Ago</td>\n",
       "      <td>Data Science Engineer 1</td>\n",
       "      <td>Copeland</td>\n",
       "      <td>[2, 3, Yrs]</td>\n",
       "      <td>Not disclosed</td>\n",
       "      <td>Pune</td>\n",
       "      <td>4.0</td>\n",
       "      <td>208</td>\n",
       "      <td>Basic understanding of machine learning algor...</td>\n",
       "      <td>Web technologies,data science,Neural networks,...</td>\n",
       "      <td>Senior</td>\n",
       "    </tr>\n",
       "    <tr>\n",
       "      <th>31</th>\n",
       "      <td>1 Day Ago</td>\n",
       "      <td>Data Science Manager</td>\n",
       "      <td>Rintelo Consulting</td>\n",
       "      <td>[8, 13, Yrs]</td>\n",
       "      <td>Not disclosed</td>\n",
       "      <td>Noida, Uttar Pradesh, Gurgaon/ Gurugram, Haryana</td>\n",
       "      <td>0.0</td>\n",
       "      <td>0</td>\n",
       "      <td>To conduct testing of the designed product an...</td>\n",
       "      <td>Data Science,data analysis,Testing Tools,data ...</td>\n",
       "      <td>Senior</td>\n",
       "    </tr>\n",
       "    <tr>\n",
       "      <th>44</th>\n",
       "      <td>1 Day Ago</td>\n",
       "      <td>Lead - Data Science</td>\n",
       "      <td>V Mart</td>\n",
       "      <td>[6, 9, Yrs]</td>\n",
       "      <td>Not disclosed</td>\n",
       "      <td>Delhi / NCR</td>\n",
       "      <td>4.2</td>\n",
       "      <td>1507</td>\n",
       "      <td>• Execute analytical experiments methodically...</td>\n",
       "      <td>R,Data Scientist,Python,Predictive Modeling,Ha...</td>\n",
       "      <td>Senior</td>\n",
       "    </tr>\n",
       "    <tr>\n",
       "      <th>198</th>\n",
       "      <td>1 Day Ago</td>\n",
       "      <td>Data Scientist</td>\n",
       "      <td>Globals Ites</td>\n",
       "      <td>[5, 8, Yrs]</td>\n",
       "      <td>Not disclosed</td>\n",
       "      <td>Bangalore/ Bengaluru, Karnataka</td>\n",
       "      <td>4.2</td>\n",
       "      <td>7</td>\n",
       "      <td>https://www.globalsinc.com/careers/explore-jo...</td>\n",
       "      <td>Data Science,Data Pipeline,Python,SQL,R,SAS,Da...</td>\n",
       "      <td>Intermediate Senior</td>\n",
       "    </tr>\n",
       "    <tr>\n",
       "      <th>206</th>\n",
       "      <td>1 Day Ago</td>\n",
       "      <td>Data Scientist</td>\n",
       "      <td>4S Advisory</td>\n",
       "      <td>[4, 8, Yrs]</td>\n",
       "      <td>Not disclosed</td>\n",
       "      <td>Chennai, Bangalore/Bengaluru</td>\n",
       "      <td>0.0</td>\n",
       "      <td>0</td>\n",
       "      <td>Experience in risk and credit score domains p...</td>\n",
       "      <td>Data Science,Recommender Systems,python,Logist...</td>\n",
       "      <td>Intermediate Senior</td>\n",
       "    </tr>\n",
       "    <tr>\n",
       "      <th>207</th>\n",
       "      <td>1 Day Ago</td>\n",
       "      <td>Urgent Hiring For MNC || Data Scientist</td>\n",
       "      <td>Virtuoso Staffing Solutions</td>\n",
       "      <td>[9, 14, Yrs]</td>\n",
       "      <td>Not disclosed</td>\n",
       "      <td>Gurgaon/ Gurugram, Haryana</td>\n",
       "      <td>0.0</td>\n",
       "      <td>0</td>\n",
       "      <td>• Design machine learning systems. • Research...</td>\n",
       "      <td>Machine Learning,Data Science,Data Analytics,P...</td>\n",
       "      <td>Senior</td>\n",
       "    </tr>\n",
       "    <tr>\n",
       "      <th>212</th>\n",
       "      <td>1 Day Ago</td>\n",
       "      <td>Data Analyst-PySpark Developer</td>\n",
       "      <td>Capco</td>\n",
       "      <td>[7, 12, Yrs]</td>\n",
       "      <td>Not disclosed</td>\n",
       "      <td>Hybrid - Kolkata, Hyderabad/Secunderabad, Pune...</td>\n",
       "      <td>3.6</td>\n",
       "      <td>336</td>\n",
       "      <td>Define and obtain source data required to suc...</td>\n",
       "      <td>Pyspark,Data Analyst,SQL,Python,Development,Da...</td>\n",
       "      <td>Senior</td>\n",
       "    </tr>\n",
       "    <tr>\n",
       "      <th>224</th>\n",
       "      <td>1 Day Ago</td>\n",
       "      <td>Data Scientist</td>\n",
       "      <td>Finsire</td>\n",
       "      <td>[2, 7, Yrs]</td>\n",
       "      <td>7-12 Lacs PA</td>\n",
       "      <td>Chennai</td>\n",
       "      <td>0.0</td>\n",
       "      <td>0</td>\n",
       "      <td>Preferred candidate profile . Nice-to-haves. ...</td>\n",
       "      <td>Predictive Modeling,Natural Language Processin...</td>\n",
       "      <td>Senior</td>\n",
       "    </tr>\n",
       "    <tr>\n",
       "      <th>227</th>\n",
       "      <td>1 Day Ago</td>\n",
       "      <td>Associate Data Scientist</td>\n",
       "      <td>ASG Technologies</td>\n",
       "      <td>[1, 2, Yrs]</td>\n",
       "      <td>Not disclosed</td>\n",
       "      <td>Chennai</td>\n",
       "      <td>4.0</td>\n",
       "      <td>20</td>\n",
       "      <td>2 years of relevant industry experience or fr...</td>\n",
       "      <td>Linux,data science,Image processing,Consulting...</td>\n",
       "      <td>Senior</td>\n",
       "    </tr>\n",
       "    <tr>\n",
       "      <th>229</th>\n",
       "      <td>1 Day Ago</td>\n",
       "      <td>Applied Intelligence - Marketing - Data Scienc...</td>\n",
       "      <td>Accenture</td>\n",
       "      <td>[4, 5, Yrs]</td>\n",
       "      <td>Not disclosed</td>\n",
       "      <td>Bangalore/Bengaluru</td>\n",
       "      <td>4.1</td>\n",
       "      <td>39630</td>\n",
       "      <td>As part of this role, the candidate is expect...</td>\n",
       "      <td>Data science,Fallout Analytics,Marketing,Journ...</td>\n",
       "      <td>Intermediate</td>\n",
       "    </tr>\n",
       "    <tr>\n",
       "      <th>230</th>\n",
       "      <td>1 Day Ago</td>\n",
       "      <td>Applied Intelligence - Marketing - Data Scienc...</td>\n",
       "      <td>Accenture</td>\n",
       "      <td>[4, 5, Yrs]</td>\n",
       "      <td>Not disclosed</td>\n",
       "      <td>Bangalore/Bengaluru</td>\n",
       "      <td>4.1</td>\n",
       "      <td>39630</td>\n",
       "      <td>As part of this role, the candidate is expect...</td>\n",
       "      <td>Node.js,Marketing,Python,SQL,Journey Analytics...</td>\n",
       "      <td>Intermediate</td>\n",
       "    </tr>\n",
       "    <tr>\n",
       "      <th>231</th>\n",
       "      <td>1 Day Ago</td>\n",
       "      <td>Applied Intelligence - Marketing - Data Scienc...</td>\n",
       "      <td>Accenture</td>\n",
       "      <td>[4, 5, Yrs]</td>\n",
       "      <td>Not disclosed</td>\n",
       "      <td>Bangalore/Bengaluru</td>\n",
       "      <td>4.1</td>\n",
       "      <td>39630</td>\n",
       "      <td>As part of this role, the candidate is expect...</td>\n",
       "      <td>Data Science,Regression testing,Customer analy...</td>\n",
       "      <td>Intermediate</td>\n",
       "    </tr>\n",
       "    <tr>\n",
       "      <th>237</th>\n",
       "      <td>1 Day Ago</td>\n",
       "      <td>Data Analyst-HTHD</td>\n",
       "      <td>Ford</td>\n",
       "      <td>[1, 4, Yrs]</td>\n",
       "      <td>Not disclosed</td>\n",
       "      <td>Kolkata, Mumbai, New Delhi, Hyderabad/Secunder...</td>\n",
       "      <td>4.5</td>\n",
       "      <td>2512</td>\n",
       "      <td>GDIA Data Tech Connected Vehicle is the busin...</td>\n",
       "      <td>Supply chain,Data quality,Data Analyst,Modem,Q...</td>\n",
       "      <td>Senior</td>\n",
       "    </tr>\n",
       "    <tr>\n",
       "      <th>240</th>\n",
       "      <td>1 Day Ago</td>\n",
       "      <td>Data Scientist</td>\n",
       "      <td>Fractal Analytics</td>\n",
       "      <td>[3, 7, Yrs]</td>\n",
       "      <td>Not disclosed</td>\n",
       "      <td>Mumbai</td>\n",
       "      <td>4.1</td>\n",
       "      <td>483</td>\n",
       "      <td>Experience working with large and complex dat...</td>\n",
       "      <td>big data analytics,Artificial Intelligence,Mac...</td>\n",
       "      <td>Intermediate Senior</td>\n",
       "    </tr>\n",
       "    <tr>\n",
       "      <th>255</th>\n",
       "      <td>1 Day Ago</td>\n",
       "      <td>Principal Data Scientist</td>\n",
       "      <td>GSK</td>\n",
       "      <td>[1, 6, Yrs]</td>\n",
       "      <td>Not disclosed</td>\n",
       "      <td>Hyderabad/Secunderabad, Bangalore/Bengaluru</td>\n",
       "      <td>4.2</td>\n",
       "      <td>20</td>\n",
       "      <td>Build experience delivering innovative data s...</td>\n",
       "      <td>Procurement,SDS,data science,Machine learning,...</td>\n",
       "      <td>Senior</td>\n",
       "    </tr>\n",
       "  </tbody>\n",
       "</table>\n",
       "</div>"
      ],
      "text/plain": [
       "    Job_Posted_On                                          Job_Title  \\\n",
       "2       1 Day Ago         Senior Analyst - Data Science (Regression)   \n",
       "3       1 Day Ago                               Manager-Data Science   \n",
       "12      1 Day Ago      Sr. Data Science (machine learning) Developer   \n",
       "18      1 Day Ago                  Manager - Data Science ( Retail )   \n",
       "24      1 Day Ago                            Data Science Engineer 1   \n",
       "25      1 Day Ago                            Data Science Engineer 1   \n",
       "31      1 Day Ago                               Data Science Manager   \n",
       "44      1 Day Ago                                Lead - Data Science   \n",
       "198     1 Day Ago                                     Data Scientist   \n",
       "206     1 Day Ago                                     Data Scientist   \n",
       "207     1 Day Ago            Urgent Hiring For MNC || Data Scientist   \n",
       "212     1 Day Ago                     Data Analyst-PySpark Developer   \n",
       "224     1 Day Ago                                     Data Scientist   \n",
       "227     1 Day Ago                           Associate Data Scientist   \n",
       "229     1 Day Ago  Applied Intelligence - Marketing - Data Scienc...   \n",
       "230     1 Day Ago  Applied Intelligence - Marketing - Data Scienc...   \n",
       "231     1 Day Ago  Applied Intelligence - Marketing - Data Scienc...   \n",
       "237     1 Day Ago                                  Data Analyst-HTHD   \n",
       "240     1 Day Ago                                     Data Scientist   \n",
       "255     1 Day Ago                           Principal Data Scientist   \n",
       "\n",
       "                            Company    Experience         Salary  \\\n",
       "2                   Tiger Analytics   [2, 4, Yrs]  Not disclosed   \n",
       "3                  AMERICAN EXPRESS   [2, 6, Yrs]  Not disclosed   \n",
       "12   AugustCode Solutions Pvt. Ltd.   [3, 5, Yrs]    5-9 Lacs PA   \n",
       "18            Loyalytics Consulting  [5, 10, Yrs]  Not disclosed   \n",
       "24                          Emerson   [2, 3, Yrs]  Not disclosed   \n",
       "25                         Copeland   [2, 3, Yrs]  Not disclosed   \n",
       "31               Rintelo Consulting  [8, 13, Yrs]  Not disclosed   \n",
       "44                           V Mart   [6, 9, Yrs]  Not disclosed   \n",
       "198                    Globals Ites   [5, 8, Yrs]  Not disclosed   \n",
       "206                     4S Advisory   [4, 8, Yrs]  Not disclosed   \n",
       "207     Virtuoso Staffing Solutions  [9, 14, Yrs]  Not disclosed   \n",
       "212                           Capco  [7, 12, Yrs]  Not disclosed   \n",
       "224                         Finsire   [2, 7, Yrs]   7-12 Lacs PA   \n",
       "227                ASG Technologies   [1, 2, Yrs]  Not disclosed   \n",
       "229                       Accenture   [4, 5, Yrs]  Not disclosed   \n",
       "230                       Accenture   [4, 5, Yrs]  Not disclosed   \n",
       "231                       Accenture   [4, 5, Yrs]  Not disclosed   \n",
       "237                            Ford   [1, 4, Yrs]  Not disclosed   \n",
       "240               Fractal Analytics   [3, 7, Yrs]  Not disclosed   \n",
       "255                             GSK   [1, 6, Yrs]  Not disclosed   \n",
       "\n",
       "                                              Location  Ratings  \\\n",
       "2    Hyderabad/Secunderabad, Chennai, Bangalore/Ben...      3.5   \n",
       "3    Kolkata, Mumbai, New Delhi, Hyderabad/Secunder...      4.3   \n",
       "12                                              Remote      0.0   \n",
       "18                                 Bangalore/Bengaluru      3.8   \n",
       "24                                                Pune      4.1   \n",
       "25                                                Pune      4.0   \n",
       "31    Noida, Uttar Pradesh, Gurgaon/ Gurugram, Haryana      0.0   \n",
       "44                                         Delhi / NCR      4.2   \n",
       "198                    Bangalore/ Bengaluru, Karnataka      4.2   \n",
       "206                       Chennai, Bangalore/Bengaluru      0.0   \n",
       "207                         Gurgaon/ Gurugram, Haryana      0.0   \n",
       "212  Hybrid - Kolkata, Hyderabad/Secunderabad, Pune...      3.6   \n",
       "224                                            Chennai      0.0   \n",
       "227                                            Chennai      4.0   \n",
       "229                                Bangalore/Bengaluru      4.1   \n",
       "230                                Bangalore/Bengaluru      4.1   \n",
       "231                                Bangalore/Bengaluru      4.1   \n",
       "237  Kolkata, Mumbai, New Delhi, Hyderabad/Secunder...      4.5   \n",
       "240                                             Mumbai      4.1   \n",
       "255        Hyderabad/Secunderabad, Bangalore/Bengaluru      4.2   \n",
       "\n",
       "     Review_Counts                                    Job_Description  \\\n",
       "2              339   A passion for writing high-quality code (Pyth...   \n",
       "3             2408   . Functional: . Hands-on experience with the ...   \n",
       "12               0   Role & Responsibilities > Data Analysis and P...   \n",
       "18               6   Requirements . Bachelors or Masters in a quan...   \n",
       "24             334   Basic understanding of machine learning algor...   \n",
       "25             208   Basic understanding of machine learning algor...   \n",
       "31               0   To conduct testing of the designed product an...   \n",
       "44            1507   • Execute analytical experiments methodically...   \n",
       "198              7   https://www.globalsinc.com/careers/explore-jo...   \n",
       "206              0   Experience in risk and credit score domains p...   \n",
       "207              0   • Design machine learning systems. • Research...   \n",
       "212            336   Define and obtain source data required to suc...   \n",
       "224              0   Preferred candidate profile . Nice-to-haves. ...   \n",
       "227             20   2 years of relevant industry experience or fr...   \n",
       "229          39630   As part of this role, the candidate is expect...   \n",
       "230          39630   As part of this role, the candidate is expect...   \n",
       "231          39630   As part of this role, the candidate is expect...   \n",
       "237           2512   GDIA Data Tech Connected Vehicle is the busin...   \n",
       "240            483   Experience working with large and complex dat...   \n",
       "255             20   Build experience delivering innovative data s...   \n",
       "\n",
       "                                              Job_Tags    Persons_Can_Apply  \n",
       "2    customer analytics,Marketing analytics,data sc...               Senior  \n",
       "3    Career development,Automation,data science,Fin...               Senior  \n",
       "12   Data Science,Machine Learning,Deep Learning,Ar...         Intermediate  \n",
       "18   IT services,Health insurance,Data analysis,Dat...  Intermediate Senior  \n",
       "24   Web technologies,data science,Neural networks,...               Senior  \n",
       "25   Web technologies,data science,Neural networks,...               Senior  \n",
       "31   Data Science,data analysis,Testing Tools,data ...               Senior  \n",
       "44   R,Data Scientist,Python,Predictive Modeling,Ha...               Senior  \n",
       "198  Data Science,Data Pipeline,Python,SQL,R,SAS,Da...  Intermediate Senior  \n",
       "206  Data Science,Recommender Systems,python,Logist...  Intermediate Senior  \n",
       "207  Machine Learning,Data Science,Data Analytics,P...               Senior  \n",
       "212  Pyspark,Data Analyst,SQL,Python,Development,Da...               Senior  \n",
       "224  Predictive Modeling,Natural Language Processin...               Senior  \n",
       "227  Linux,data science,Image processing,Consulting...               Senior  \n",
       "229  Data science,Fallout Analytics,Marketing,Journ...         Intermediate  \n",
       "230  Node.js,Marketing,Python,SQL,Journey Analytics...         Intermediate  \n",
       "231  Data Science,Regression testing,Customer analy...         Intermediate  \n",
       "237  Supply chain,Data quality,Data Analyst,Modem,Q...               Senior  \n",
       "240  big data analytics,Artificial Intelligence,Mac...  Intermediate Senior  \n",
       "255  Procurement,SDS,data science,Machine learning,...               Senior  "
      ]
     },
     "execution_count": 60,
     "metadata": {},
     "output_type": "execute_result"
    }
   ],
   "source": [
    "job_portal[(job_portal['Job_Posted_On']=='Few Hours Ago') | (job_portal['Job_Posted_On']=='1 Day Ago')]"
   ]
  }
 ],
 "metadata": {
  "kernelspec": {
   "display_name": "Python 3 (ipykernel)",
   "language": "python",
   "name": "python3"
  },
  "language_info": {
   "codemirror_mode": {
    "name": "ipython",
    "version": 3
   },
   "file_extension": ".py",
   "mimetype": "text/x-python",
   "name": "python",
   "nbconvert_exporter": "python",
   "pygments_lexer": "ipython3",
   "version": "3.9.5"
  }
 },
 "nbformat": 4,
 "nbformat_minor": 5
}
